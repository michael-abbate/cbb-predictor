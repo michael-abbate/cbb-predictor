{
 "cells": [
  {
   "cell_type": "code",
   "execution_count": 2,
   "metadata": {},
   "outputs": [],
   "source": [
    "import pandas as pd\n",
    "import pickle"
   ]
  },
  {
   "cell_type": "code",
   "execution_count": null,
   "metadata": {},
   "outputs": [],
   "source": [
    "import pickle\n",
    "\n",
    "# FOR MARCH MADNESS\n",
    "boxscores_final.to_csv('march_madness/boxscores_final_lookup.csv',index=False)\n",
    "\n",
    "\n",
    "with open('march_madness/march_madness_home_model.pkl','wb') as home_mdl_pkl:\n",
    "    pickle.dump(home_model,home_mdl_pkl)\n",
    "\n",
    "with open('march_madness/march_madness_away_model.pkl','wb') as away_mdl_pkl:\n",
    "    pickle.dump(away_model,away_mdl_pkl)"
   ]
  },
  {
   "cell_type": "code",
   "execution_count": 16,
   "metadata": {},
   "outputs": [
    {
     "name": "stderr",
     "output_type": "stream",
     "text": [
      "/Users/mabbate/michael-abbate/cbb-predictor/venv/lib/python3.9/site-packages/sklearn/base.py:376: InconsistentVersionWarning: Trying to unpickle estimator LabelBinarizer from version 1.2.0 when using version 1.4.1.post1. This might lead to breaking code or invalid results. Use at your own risk. For more info please refer to:\n",
      "https://scikit-learn.org/stable/model_persistence.html#security-maintainability-limitations\n",
      "  warnings.warn(\n",
      "/Users/mabbate/michael-abbate/cbb-predictor/venv/lib/python3.9/site-packages/sklearn/base.py:376: InconsistentVersionWarning: Trying to unpickle estimator RidgeClassifier from version 1.2.0 when using version 1.4.1.post1. This might lead to breaking code or invalid results. Use at your own risk. For more info please refer to:\n",
      "https://scikit-learn.org/stable/model_persistence.html#security-maintainability-limitations\n",
      "  warnings.warn(\n"
     ]
    }
   ],
   "source": [
    "boxscores_final = pd.read_csv('boxscores_final_lookup.csv')\n",
    "\n",
    "with open('march_madness_home_model.pkl', 'rb') as h:\n",
    "    home_model = pickle.load(h)\n",
    "\n",
    "with open('march_madness_away_model.pkl', 'rb') as a:\n",
    "    away_model = pickle.load(a)\n",
    "\n",
    "teams = pd.read_csv('teams.csv')\n",
    "home_features=['fgm_home',\n",
    " '2pm_home',\n",
    " '2pa_home',\n",
    " '3pm_home',\n",
    " 'ftm_home',\n",
    " 'fta_home',\n",
    " 'oreb_home',\n",
    " 'dreb_home',\n",
    " 'reb_home',\n",
    " 'ast_home',\n",
    " 'stl_home',\n",
    " 'blk_home',\n",
    " 'to_home',\n",
    " 'pf_home',\n",
    " 'awayTeam_losses',\n",
    " 'fgm_away',\n",
    " 'fga_away',\n",
    " '2pm_away',\n",
    " '2pa_away',\n",
    " '3pm_away',\n",
    " '3pa_away',\n",
    " 'ftm_away',\n",
    " 'fta_away',\n",
    " 'oreb_away',\n",
    " 'reb_away',\n",
    " 'ast_away',\n",
    " 'stl_away',\n",
    " 'blk_away',\n",
    " 'to_away',\n",
    " 'pf_away']\n",
    "\n",
    "away_features= ['fga_home',\n",
    " '2pa_home',\n",
    " '3pm_home',\n",
    " '3pa_home',\n",
    " 'ftm_home',\n",
    " 'fta_home',\n",
    " 'oreb_home',\n",
    " 'dreb_home',\n",
    " 'reb_home',\n",
    " 'stl_home',\n",
    " 'blk_home',\n",
    " 'to_home',\n",
    " 'pf_home',\n",
    " 'homeTeam_losses',\n",
    " 'fgm_away',\n",
    " 'fga_away',\n",
    " '2pm_away',\n",
    " '2pa_away',\n",
    " '3pm_away',\n",
    " '3pa_away',\n",
    " 'ftm_away',\n",
    " 'oreb_away',\n",
    " 'dreb_away',\n",
    " 'reb_away',\n",
    " 'ast_away',\n",
    " 'stl_away',\n",
    " 'blk_away',\n",
    " 'pf_away']\n",
    "\n",
    "feature_cols=['fgm_home', 'fga_home', '2pm_home', '2pa_home', '3pm_home', '3pa_home',\n",
    "       'ftm_home', 'fta_home', 'oreb_home', 'dreb_home', 'reb_home',\n",
    "       'ast_home', 'stl_home', 'blk_home', 'to_home', 'pf_home',\n",
    "       'is_conference', 'is_neutral', 'homeTeam_wins', 'homeTeam_losses',\n",
    "       'awayTeam_wins', 'awayTeam_losses', 'fgm_away', 'fga_away', '2pm_away',\n",
    "       '2pa_away', '3pm_away', '3pa_away', 'ftm_away', 'fta_away', 'oreb_away',\n",
    "       'dreb_away', 'reb_away', 'ast_away', 'stl_away', 'blk_away', 'to_away',\n",
    "       'pf_away']"
   ]
  },
  {
   "cell_type": "code",
   "execution_count": 86,
   "metadata": {},
   "outputs": [],
   "source": [
    "def predictOutcome(game_day, home_team_name, away_team_name,is_neutral=1, is_conference=0):\n",
    "    game_date_str = game_day\n",
    "    game_date = pd.to_datetime(game_date_str)\n",
    "    boxscores_final['game_day'] = pd.to_datetime(boxscores_final['game_day'])\n",
    "    home_most_recent_bs = pd.DataFrame(boxscores_final[(boxscores_final['team']==home_team_name) & (boxscores_final['game_day']<game_date)].iloc[-1,:]).transpose()\n",
    "    away_most_recent_bs = pd.DataFrame(boxscores_final[(boxscores_final['team']==away_team_name) & (boxscores_final['game_day']<game_date)].iloc[-1,:]).transpose()\n",
    "\n",
    "    home_team_cols_needed = {}\n",
    "    for f in feature_cols:\n",
    "        if '_home' in f:\n",
    "            home_team_cols_needed[f.replace('_home','')]=f\n",
    "    home_most_recent_bs=home_most_recent_bs.rename(columns=home_team_cols_needed)\n",
    "    home_most_recent_bs=home_most_recent_bs.drop(['awayTeam_wins','awayTeam_losses'],axis=1)\n",
    "\n",
    "    away_team_cols_needed = {}\n",
    "    for f in feature_cols:\n",
    "        if '_away' in f:\n",
    "            away_team_cols_needed[f.replace('_away','')]=f\n",
    "    away_most_recent_bs=away_most_recent_bs.rename(columns=away_team_cols_needed)\n",
    "    away_most_recent_bs=away_most_recent_bs.drop(['homeTeam_wins','homeTeam_losses'],axis=1)\n",
    "\n",
    "    home_most_recent_bs['join_helper']=1\n",
    "    away_most_recent_bs['join_helper']=1\n",
    "\n",
    "    validate_df = pd.merge(home_most_recent_bs, away_most_recent_bs,on='join_helper')\n",
    "    validate_df['is_neutral']=is_neutral\n",
    "    validate_df['is_conference']=is_conference\n",
    "\n",
    "    home_pred = home_model.predict(validate_df[home_features]) \n",
    "    away_pred = away_model.predict(validate_df[away_features])\n",
    "    # print(home_team_name, home_pred[0])\n",
    "    # print(away_team_name, away_pred[0])\n",
    "    winning_team = home_team_name if home_pred[0]>away_pred[0] else away_team_name\n",
    "    return {'game_day':game_date_str,\"winning_team\": winning_team, home_team_name: str(home_pred[0]), away_team_name: str(away_pred[0])}\n"
   ]
  },
  {
   "cell_type": "code",
   "execution_count": 75,
   "metadata": {},
   "outputs": [
    {
     "name": "stdout",
     "output_type": "stream",
     "text": [
      "14        Tennessee Tech Golden Eagles\n",
      "15                Tennessee Volunteers\n",
      "183      Middle Tennessee Blue Raiders\n",
      "279    East Tennessee State Buccaneers\n",
      "359             Tennessee State Tigers\n",
      "Name: team, dtype: object\n",
      "22               Texas A&M-Commerce Lions\n",
      "23                       Texas A&M Aggies\n",
      "332    Texas A&M-Corpus Christi Islanders\n",
      "Name: team, dtype: object\n"
     ]
    }
   ],
   "source": [
    "lookup_home = 'Tennessee'\n",
    "lookup_away = 'Texas A'\n",
    "print(teams.loc[teams['team'].str.contains(lookup_home,case=True),'team'])\n",
    "print(teams.loc[teams['team'].str.contains(lookup_away,case=True),'team'])\n"
   ]
  },
  {
   "cell_type": "code",
   "execution_count": 87,
   "metadata": {},
   "outputs": [],
   "source": [
    "\n",
    "rightside = [\n",
    "    {'game_day':'2024-03-21','home': 'Houston Cougars', 'away': 'Longwood Lancers'},\n",
    "    {'game_day':'2024-03-21','home': 'Nebraska Cornhuskers', 'away': 'Texas A&M Aggies'},\n",
    "    {'game_day':'2024-03-21','home': 'Wisconsin Badgers', 'away': 'James Madison Dukes'},\n",
    "    {'game_day':'2024-03-21','home': 'Duke Blue Devils', 'away': 'Vermont Catamounts'},\n",
    "    {'game_day':'2024-03-21','home': 'Texas Tech Red Raiders', 'away': 'NC State Wolfpack'},\n",
    "    {'game_day':'2024-03-21','home': 'Kentucky Wildcats', 'away': 'Oakland Golden Grizzlies'},\n",
    "    {'game_day':'2024-03-21','home': 'Florida Gators', 'away': 'Colorado Buffaloes'},\n",
    "    {'game_day':'2024-03-21','home': 'Marquette Golden Eagles', 'away': 'Western Kentucky Hilltoppers'},\n",
    "    {'game_day':'2024-03-21','home': 'Purdue Boilermakers', 'away': 'Grambling Tigers'},\n",
    "    {'game_day':'2024-03-21','home': 'Utah State Aggies', 'away': 'TCU Horned Frogs'},\n",
    "    {'game_day':'2024-03-21','home': 'Gonzaga Bulldogs', 'away': 'McNeese Cowboys'},\n",
    "    {'game_day':'2024-03-21','home': 'Kansas Jayhawks', 'away': 'Samford Bulldogs'},\n",
    "    {'game_day':'2024-03-21','home': 'South Carolina Gamecocks', 'away': 'Oregon Ducks'},\n",
    "    {'game_day':'2024-03-21','home': 'Creighton Bluejays', 'away': 'Akron Zips'},\n",
    "    {'game_day':'2024-03-21','home': 'Texas Longhorns', 'away': 'Colorado State Rams'},\n",
    "    {'game_day':'2024-03-21','home': 'Tennessee Volunteers', 'away': 'Saint Peter\\'s Peacocks'},\n",
    "]\n",
    "\n",
    "leftside = [\n",
    "    {'game_day':'2024-03-21','home':'UConn Huskies', 'away': 'Stetson Hatters'},\n",
    "    {'game_day':'2024-03-21','home': 'Florida Atlantic Owls', 'away': 'Northwestern Wildcats'},\n",
    "    {'game_day':'2024-03-21','home': 'San Diego State Aztecs', 'away': 'UAB Blazers'},\n",
    "    {'game_day':'2024-03-21','home': 'Auburn Tigers', 'away': 'Yale Bulldogs'},\n",
    "    {'game_day':'2024-03-21','home': 'BYU Cougars', 'away': 'Duquesne Dukes'},\n",
    "    {'game_day':'2024-03-21','home': 'Illinois Fighting Illini', 'away': 'Morehead State Eagles'},\n",
    "    {'game_day':'2024-03-21','home': 'Washington State Cougars', 'away': 'Drake Bulldogs'},\n",
    "    {'game_day':'2024-03-21','home': 'Iowa State Cyclones', 'away': 'South Dakota State Jackrabbits'},\n",
    "    {'game_day':'2024-03-21','home': 'North Carolina Tar Heels', 'away': 'Wagner Seahawks'},\n",
    "    {'game_day':'2024-03-21','home': 'Mississippi State Bulldogs', 'away': 'Michigan State Spartans'},\n",
    "    {'game_day':'2024-03-21','home': 'Saint Mary\\'s Gaels', 'away': 'Grand Canyon Lopes'},\n",
    "    {'game_day':'2024-03-21','home': 'Alabama Crimson Tide', 'away': 'Charleston Southern Buccaneers'},\n",
    "    {'game_day':'2024-03-21','home': 'Clemson Tigers', 'away': 'New Mexico Lobos'},\n",
    "    {'game_day':'2024-03-21','home': 'Baylor Bears', 'away': 'Colgate Raiders'},\n",
    "    {'game_day':'2024-03-21','home': 'Dayton Flyers', 'away': 'Nevada Wolf Pack'},\n",
    "    {'game_day':'2024-03-21','home': 'Arizona Wildcats', 'away': 'Long Beach State Beach'}, \n",
    "]\n"
   ]
  },
  {
   "cell_type": "code",
   "execution_count": 89,
   "metadata": {},
   "outputs": [],
   "source": [
    "games = []\n",
    "for row in rightside:\n",
    "    try:\n",
    "        outcome=predictOutcome(row['game_day'],row['home'],row['away'])\n",
    "    except:\n",
    "        print('MISSED:', row)\n",
    "    games.append(outcome)\n",
    "for row in leftside:\n",
    "    outcome=predictOutcome(row['game_day'],row['home'],row['away'])\n",
    "    games.append(outcome)"
   ]
  },
  {
   "cell_type": "code",
   "execution_count": 90,
   "metadata": {},
   "outputs": [],
   "source": [
    "import json\n",
    "g = json.dumps(games)"
   ]
  },
  {
   "cell_type": "code",
   "execution_count": 92,
   "metadata": {},
   "outputs": [
    {
     "name": "stdout",
     "output_type": "stream",
     "text": [
      "Houston Cougars\n",
      "Nebraska Cornhuskers\n",
      "James Madison Dukes\n",
      "Duke Blue Devils\n",
      "Texas Tech Red Raiders\n",
      "Kentucky Wildcats\n",
      "Florida Gators\n",
      "Marquette Golden Eagles\n",
      "Purdue Boilermakers\n",
      "Utah State Aggies\n",
      "Gonzaga Bulldogs\n",
      "Samford Bulldogs\n",
      "South Carolina Gamecocks\n",
      "Creighton Bluejays\n",
      "Texas Longhorns\n",
      "Tennessee Volunteers\n",
      "UConn Huskies\n",
      "Florida Atlantic Owls\n",
      "UAB Blazers\n",
      "Auburn Tigers\n",
      "BYU Cougars\n",
      "Illinois Fighting Illini\n",
      "Washington State Cougars\n",
      "Iowa State Cyclones\n",
      "North Carolina Tar Heels\n",
      "Mississippi State Bulldogs\n",
      "Saint Mary's Gaels\n",
      "Alabama Crimson Tide\n",
      "Clemson Tigers\n",
      "Baylor Bears\n",
      "Dayton Flyers\n",
      "Arizona Wildcats\n"
     ]
    }
   ],
   "source": [
    "for g in games:\n",
    "    print(g['winning_team'])"
   ]
  },
  {
   "cell_type": "code",
   "execution_count": 93,
   "metadata": {},
   "outputs": [],
   "source": [
    "round32 = [\n",
    "    {'game_day':'2024-03-21','home':'UConn Huskies', 'away': 'Florida Atlantic Owls'},\n",
    "    {'game_day':'2024-03-21','home':'Auburn Tigers', 'away': 'UAB Blazers'},\n",
    "    {'game_day':'2024-03-21','home':'Illinois Fighting Illini', 'away': 'BYU Cougars'},\n",
    "    {'game_day':'2024-03-21','home':'Iowa State Cyclones', 'away': 'Washington State Cougars'},\n",
    "    {'game_day':'2024-03-21','home':'North Carolina Tar Heels', 'away': 'Mississippi State Bulldogs'},\n",
    "    {'game_day':'2024-03-21','home':'Alabama Crimson Tide', 'away': 'Saint Mary\\'s Gaels'},\n",
    "    {'game_day':'2024-03-21','home':'Baylor Bears', 'away': 'Clemson Tigers'},\n",
    "    {'game_day':'2024-03-21','home':'Arizona Wildcats', 'away': 'Dayton Flyers'},\n",
    "    {'game_day':'2024-03-21','home':'Houston Cougars', 'away': 'Nebraska Cornhuskers'},\n",
    "    {'game_day':'2024-03-21','home':'Duke Blue Devils', 'away': 'James Madison Dukes'},\n",
    "    {'game_day':'2024-03-21','home':'Kentucky Wildcats', 'away': 'Texas Tech Red Raiders'},\n",
    "    {'game_day':'2024-03-21','home':'Marquette Golden Eagles', 'away': 'Florida Gators'},\n",
    "    {'game_day':'2024-03-21','home':'Purdue Boilermakers', 'away': 'Utah State Aggies'},\n",
    "    {'game_day':'2024-03-21','home':'Gonzaga Bulldogs', 'away': 'Samford Bulldogs'},\n",
    "    {'game_day':'2024-03-21','home':'Creighton Bluejays', 'away': 'South Carolina Gamecocks'},\n",
    "    {'game_day':'2024-03-21','home':'Tennessee Volunteers', 'away': 'Texas Longhorns'},\n",
    "]"
   ]
  },
  {
   "cell_type": "code",
   "execution_count": 101,
   "metadata": {},
   "outputs": [],
   "source": [
    "games32 = []\n",
    "for row in round32:\n",
    "    try:\n",
    "        outcome=predictOutcome(row['game_day'],row['home'],row['away'])\n",
    "    except:\n",
    "        print('MISSED:', row)\n",
    "    games32.append(outcome)"
   ]
  },
  {
   "cell_type": "code",
   "execution_count": 102,
   "metadata": {},
   "outputs": [
    {
     "name": "stdout",
     "output_type": "stream",
     "text": [
      "UConn Huskies\n",
      "Auburn Tigers\n",
      "Illinois Fighting Illini\n",
      "Washington State Cougars\n",
      "North Carolina Tar Heels\n",
      "Alabama Crimson Tide\n",
      "Baylor Bears\n",
      "Arizona Wildcats\n",
      "Houston Cougars\n",
      "Duke Blue Devils\n",
      "Kentucky Wildcats\n",
      "Marquette Golden Eagles\n",
      "Purdue Boilermakers\n",
      "Gonzaga Bulldogs\n",
      "Creighton Bluejays\n",
      "Tennessee Volunteers\n"
     ]
    }
   ],
   "source": [
    "for g in games32:\n",
    "    print(g['winning_team'])"
   ]
  },
  {
   "cell_type": "code",
   "execution_count": 100,
   "metadata": {},
   "outputs": [],
   "source": [
    "round16 = [\n",
    "    {'game_day':'2024-03-21','home':'UConn Huskies', 'away': 'Auburn Tigers'},\n",
    "    {'game_day':'2024-03-21','home':'Illinois Fighting Illini', 'away': 'Washington State Cougars'},\n",
    "    {'game_day':'2024-03-21','home':'North Carolina Tar Heels', 'away': 'Alabama Crimson Tide'},\n",
    "    {'game_day':'2024-03-21','home':'Arizona Wildcats', 'away': 'Baylor Bears'},\n",
    "    {'game_day':'2024-03-21','home':'Houston Cougars', 'away': 'Duke Blue Devils'},\n",
    "    {'game_day':'2024-03-21','home':'Marquette Golden Eagles', 'away': 'Kentucky Wildcats'},\n",
    "    {'game_day':'2024-03-21','home':'Purdue Boilermakers', 'away': 'Gonzaga Bulldogs'},\n",
    "    {'game_day':'2024-03-21','home':'Tennessee Volunteers', 'away': 'Creighton Bluejays'},\n",
    "]"
   ]
  },
  {
   "cell_type": "code",
   "execution_count": 103,
   "metadata": {},
   "outputs": [],
   "source": [
    "games16 = []\n",
    "for row in round16:\n",
    "    try:\n",
    "        outcome=predictOutcome(row['game_day'],row['home'],row['away'])\n",
    "    except:\n",
    "        print('MISSED:', row)\n",
    "    games16.append(outcome)\n"
   ]
  },
  {
   "cell_type": "code",
   "execution_count": 105,
   "metadata": {},
   "outputs": [
    {
     "name": "stdout",
     "output_type": "stream",
     "text": [
      "UConn Huskies\n",
      "Illinois Fighting Illini\n",
      "North Carolina Tar Heels\n",
      "Arizona Wildcats\n",
      "Houston Cougars\n",
      "Marquette Golden Eagles\n",
      "Purdue Boilermakers\n",
      "Tennessee Volunteers\n"
     ]
    }
   ],
   "source": [
    "for g in games16:\n",
    "    print(g['winning_team'])"
   ]
  },
  {
   "cell_type": "code",
   "execution_count": 106,
   "metadata": {},
   "outputs": [],
   "source": [
    "round8 = [\n",
    "    {'game_day':'2024-03-21','home':'UConn Huskies', 'away': 'Illinois Fighting Illini'},\n",
    "    {'game_day':'2024-03-21','home':'North Carolina Tar Heels', 'away': 'Arizona Wildcats'},\n",
    "    {'game_day':'2024-03-21','home':'Houston Cougars', 'away': 'Marquette Golden Eagles'},\n",
    "    {'game_day':'2024-03-21','home':'Purdue Boilermakers', 'away': 'Tennessee Volunteers'},\n",
    "]"
   ]
  },
  {
   "cell_type": "code",
   "execution_count": 110,
   "metadata": {},
   "outputs": [],
   "source": [
    "games8 = []\n",
    "for row in round8:\n",
    "    try:\n",
    "        outcome=predictOutcome(row['game_day'],row['home'],row['away'])\n",
    "    except:\n",
    "        print('MISSED:', row)\n",
    "    games8.append(outcome)\n"
   ]
  },
  {
   "cell_type": "code",
   "execution_count": 111,
   "metadata": {},
   "outputs": [
    {
     "name": "stdout",
     "output_type": "stream",
     "text": [
      "UConn Huskies\n",
      "North Carolina Tar Heels\n",
      "Marquette Golden Eagles\n",
      "Purdue Boilermakers\n"
     ]
    }
   ],
   "source": [
    "for g in games8:\n",
    "    print(g['winning_team'])"
   ]
  },
  {
   "cell_type": "code",
   "execution_count": 113,
   "metadata": {},
   "outputs": [],
   "source": [
    "final4 = [\n",
    "    {'game_day':'2024-03-21','home':'UConn Huskies', 'away': 'North Carolina Tar Heels'},\n",
    "    {'game_day':'2024-03-21','home':'Purdue Boilermakers', 'away': 'Marquette Golden Eagles'},\n",
    "]"
   ]
  },
  {
   "cell_type": "code",
   "execution_count": 114,
   "metadata": {},
   "outputs": [],
   "source": [
    "games4 = []\n",
    "for row in final4:\n",
    "    try:\n",
    "        outcome=predictOutcome(row['game_day'],row['home'],row['away'])\n",
    "    except:\n",
    "        print('MISSED:', row)\n",
    "    games4.append(outcome)\n"
   ]
  },
  {
   "cell_type": "code",
   "execution_count": 115,
   "metadata": {},
   "outputs": [
    {
     "data": {
      "text/plain": [
       "[{'game_day': '2024-03-21',\n",
       "  'winning_team': 'UConn Huskies',\n",
       "  'UConn Huskies': '87',\n",
       "  'North Carolina Tar Heels': '76'},\n",
       " {'game_day': '2024-03-21',\n",
       "  'winning_team': 'Purdue Boilermakers',\n",
       "  'Purdue Boilermakers': '87',\n",
       "  'Marquette Golden Eagles': '76'}]"
      ]
     },
     "execution_count": 115,
     "metadata": {},
     "output_type": "execute_result"
    }
   ],
   "source": [
    "games4"
   ]
  },
  {
   "cell_type": "code",
   "execution_count": 116,
   "metadata": {},
   "outputs": [
    {
     "data": {
      "text/plain": [
       "{'game_day': '2024-03-21',\n",
       " 'winning_team': 'UConn Huskies',\n",
       " 'UConn Huskies': '87',\n",
       " 'Purdue Boilermakers': '79'}"
      ]
     },
     "execution_count": 116,
     "metadata": {},
     "output_type": "execute_result"
    }
   ],
   "source": [
    "predictOutcome('2024-03-21','UConn Huskies','Purdue Boilermakers')"
   ]
  },
  {
   "cell_type": "code",
   "execution_count": null,
   "metadata": {},
   "outputs": [],
   "source": []
  }
 ],
 "metadata": {
  "kernelspec": {
   "display_name": "Python 3.9.6 ('venv': venv)",
   "language": "python",
   "name": "python3"
  },
  "language_info": {
   "codemirror_mode": {
    "name": "ipython",
    "version": 3
   },
   "file_extension": ".py",
   "mimetype": "text/x-python",
   "name": "python",
   "nbconvert_exporter": "python",
   "pygments_lexer": "ipython3",
   "version": "3.9.6"
  },
  "orig_nbformat": 4,
  "vscode": {
   "interpreter": {
    "hash": "d516ab9d3d8b3e65f744c6289da10f593194ff71ad0cf30a60cccd4ea06d47a8"
   }
  }
 },
 "nbformat": 4,
 "nbformat_minor": 2
}
