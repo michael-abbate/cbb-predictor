{
 "cells": [
  {
   "cell_type": "code",
   "execution_count": 92,
   "metadata": {},
   "outputs": [],
   "source": [
    "import pandas as pd\n",
    "import numpy as np\n",
    "import cbbpy.mens_scraper as s\n",
    "from datetime import datetime, timedelta\n",
    "from sklearn.preprocessing import MinMaxScaler"
   ]
  },
  {
   "cell_type": "code",
   "execution_count": 26,
   "metadata": {},
   "outputs": [],
   "source": [
    "# game_info_df, boxscore_df, pbp_df = s.get_games_season(2024)"
   ]
  },
  {
   "cell_type": "code",
   "execution_count": 182,
   "metadata": {},
   "outputs": [
    {
     "name": "stderr",
     "output_type": "stream",
     "text": [
      "Scraping 16 games on 03/21/24: 100%|██████████| 142 of 142 days scraped in 559.0 sec \n"
     ]
    }
   ],
   "source": [
    "# try:\n",
    "# game_info_df = pd.read_csv('raw_data/game_info_df.csv')\n",
    "# boxscore_df = pd.read_csv('raw_data/boxscore_df.csv')\n",
    "    # pbp_df = pd.read_csv('raw_data/pbp_df.csv')\n",
    "# except:\n",
    "game_info_df, boxscore_df, pbp_df = s.get_games_season(2024)\n",
    "#     game_info_df.to_csv('game_info_df.csv',index=False)\n",
    "#     boxscore_df.to_csv('boxscore_df.csv',index=False)\n",
    "#     pbp_df.to_csv('pbp_df.csv',index=False)\n"
   ]
  },
  {
   "cell_type": "code",
   "execution_count": 183,
   "metadata": {},
   "outputs": [],
   "source": [
    "game_info_df.to_csv('raw_data/game_info_df.csv',index=False)\n",
    "boxscore_df.to_csv('raw_data/boxscore_df.csv',index=False)\n",
    "pbp_df.to_csv('raw_data/pbp_df.csv',index=False)"
   ]
  },
  {
   "cell_type": "code",
   "execution_count": 184,
   "metadata": {},
   "outputs": [
    {
     "data": {
      "text/plain": [
       "(6148, 27)"
      ]
     },
     "execution_count": 184,
     "metadata": {},
     "output_type": "execute_result"
    }
   ],
   "source": [
    "game_info_df.shape"
   ]
  },
  {
   "cell_type": "code",
   "execution_count": 105,
   "metadata": {},
   "outputs": [
    {
     "name": "stderr",
     "output_type": "stream",
     "text": [
      "Scraping 22 games on 03/04/24: 100%|██████████| 4 of 4 days scraped in 15.3 sec \n"
     ]
    }
   ],
   "source": [
    "# max_date = pd.to_datetime(game_info_df['game_day']).max()\n",
    "# max_date = max_date.strftime('%Y-%m-%d')\n",
    "# max_date\n",
    "# new_date = '2024-03-01'\n",
    "# new_game_info,new_boxscore_df,new_pbp_df = s.get_games_range(\n",
    "#     start_date=new_date,\n",
    "#     end_date = max_date,\n",
    "#     info=True,\n",
    "#     box=True,\n",
    "#     pbp=False)"
   ]
  },
  {
   "cell_type": "markdown",
   "metadata": {},
   "source": [
    "## Summary"
   ]
  },
  {
   "cell_type": "markdown",
   "metadata": {},
   "source": [
    "Assumptions:\n",
    "* Refs, networks, arena capacity, date, time of day and tournament do not impact score"
   ]
  },
  {
   "cell_type": "markdown",
   "metadata": {},
   "source": [
    "## Games"
   ]
  },
  {
   "cell_type": "markdown",
   "metadata": {},
   "source": [
    "### Filter"
   ]
  },
  {
   "cell_type": "code",
   "execution_count": 109,
   "metadata": {},
   "outputs": [
    {
     "data": {
      "text/plain": [
       "(5621, 27)"
      ]
     },
     "execution_count": 109,
     "metadata": {},
     "output_type": "execute_result"
    }
   ],
   "source": [
    "game_info_df.shape"
   ]
  },
  {
   "cell_type": "code",
   "execution_count": 110,
   "metadata": {},
   "outputs": [
    {
     "data": {
      "text/html": [
       "<div>\n",
       "<style scoped>\n",
       "    .dataframe tbody tr th:only-of-type {\n",
       "        vertical-align: middle;\n",
       "    }\n",
       "\n",
       "    .dataframe tbody tr th {\n",
       "        vertical-align: top;\n",
       "    }\n",
       "\n",
       "    .dataframe thead th {\n",
       "        text-align: right;\n",
       "    }\n",
       "</style>\n",
       "<table border=\"1\" class=\"dataframe\">\n",
       "  <thead>\n",
       "    <tr style=\"text-align: right;\">\n",
       "      <th></th>\n",
       "      <th>game_id</th>\n",
       "      <th>home_team</th>\n",
       "      <th>home_id</th>\n",
       "      <th>home_rank</th>\n",
       "      <th>home_record</th>\n",
       "      <th>home_score</th>\n",
       "      <th>away_team</th>\n",
       "      <th>away_id</th>\n",
       "      <th>away_rank</th>\n",
       "      <th>away_record</th>\n",
       "      <th>...</th>\n",
       "      <th>game_day</th>\n",
       "      <th>game_time</th>\n",
       "      <th>game_loc</th>\n",
       "      <th>arena</th>\n",
       "      <th>arena_capacity</th>\n",
       "      <th>attendance</th>\n",
       "      <th>tv_network</th>\n",
       "      <th>referee_1</th>\n",
       "      <th>referee_2</th>\n",
       "      <th>referee_3</th>\n",
       "    </tr>\n",
       "  </thead>\n",
       "  <tbody>\n",
       "    <tr>\n",
       "      <th>0</th>\n",
       "      <td>401575451</td>\n",
       "      <td>Kansas Jayhawks</td>\n",
       "      <td>2305</td>\n",
       "      <td>1.0</td>\n",
       "      <td>1-0</td>\n",
       "      <td>99</td>\n",
       "      <td>North Carolina Central Eagles</td>\n",
       "      <td>2428</td>\n",
       "      <td>NaN</td>\n",
       "      <td>0-1</td>\n",
       "      <td>...</td>\n",
       "      <td>November 06, 2023</td>\n",
       "      <td>05:00 PM PST</td>\n",
       "      <td>Lawrence, KS</td>\n",
       "      <td>Allen Fieldhouse</td>\n",
       "      <td>0</td>\n",
       "      <td>16300</td>\n",
       "      <td>BIG12|ESPN+</td>\n",
       "      <td>Gerry Pollard</td>\n",
       "      <td>Amy Bonner</td>\n",
       "      <td>Chance Moore</td>\n",
       "    </tr>\n",
       "    <tr>\n",
       "      <th>1</th>\n",
       "      <td>401576147</td>\n",
       "      <td>Duke Blue Devils</td>\n",
       "      <td>150</td>\n",
       "      <td>2.0</td>\n",
       "      <td>1-0</td>\n",
       "      <td>92</td>\n",
       "      <td>Dartmouth Big Green</td>\n",
       "      <td>159</td>\n",
       "      <td>NaN</td>\n",
       "      <td>0-1</td>\n",
       "      <td>...</td>\n",
       "      <td>November 06, 2023</td>\n",
       "      <td>06:00 PM PST</td>\n",
       "      <td>Durham, NC</td>\n",
       "      <td>Cameron Indoor Stadium</td>\n",
       "      <td>0</td>\n",
       "      <td>9314</td>\n",
       "      <td>ACCN</td>\n",
       "      <td>Jamie Luckie</td>\n",
       "      <td>Ryan Sassano</td>\n",
       "      <td>Clare Aubry</td>\n",
       "    </tr>\n",
       "    <tr>\n",
       "      <th>2</th>\n",
       "      <td>401577640</td>\n",
       "      <td>Purdue Boilermakers</td>\n",
       "      <td>2509</td>\n",
       "      <td>3.0</td>\n",
       "      <td>1-0</td>\n",
       "      <td>98</td>\n",
       "      <td>Samford Bulldogs</td>\n",
       "      <td>2535</td>\n",
       "      <td>NaN</td>\n",
       "      <td>0-1</td>\n",
       "      <td>...</td>\n",
       "      <td>November 06, 2023</td>\n",
       "      <td>03:30 PM PST</td>\n",
       "      <td>West Lafayette, IN</td>\n",
       "      <td>Mackey Arena</td>\n",
       "      <td>0</td>\n",
       "      <td>14876</td>\n",
       "      <td>BTN</td>\n",
       "      <td>D.J. Carstensen</td>\n",
       "      <td>Edwin  Young</td>\n",
       "      <td>Jourdan Love</td>\n",
       "    </tr>\n",
       "    <tr>\n",
       "      <th>3</th>\n",
       "      <td>401581835</td>\n",
       "      <td>Michigan State Spartans</td>\n",
       "      <td>127</td>\n",
       "      <td>4.0</td>\n",
       "      <td>0-1</td>\n",
       "      <td>76</td>\n",
       "      <td>James Madison Dukes</td>\n",
       "      <td>256</td>\n",
       "      <td>NaN</td>\n",
       "      <td>1-0</td>\n",
       "      <td>...</td>\n",
       "      <td>November 06, 2023</td>\n",
       "      <td>05:30 PM PST</td>\n",
       "      <td>East Lansing, MI</td>\n",
       "      <td>Breslin Center</td>\n",
       "      <td>0</td>\n",
       "      <td>14797</td>\n",
       "      <td>BTN</td>\n",
       "      <td>Brian Dorsey</td>\n",
       "      <td>Chad Barlow</td>\n",
       "      <td>Brian McNutt</td>\n",
       "    </tr>\n",
       "    <tr>\n",
       "      <th>4</th>\n",
       "      <td>401577598</td>\n",
       "      <td>Marquette Golden Eagles</td>\n",
       "      <td>269</td>\n",
       "      <td>5.0</td>\n",
       "      <td>1-0</td>\n",
       "      <td>92</td>\n",
       "      <td>Northern Illinois Huskies</td>\n",
       "      <td>2459</td>\n",
       "      <td>NaN</td>\n",
       "      <td>0-1</td>\n",
       "      <td>...</td>\n",
       "      <td>November 06, 2023</td>\n",
       "      <td>05:30 PM PST</td>\n",
       "      <td>Milwaukee, WI</td>\n",
       "      <td>Fiserv Forum</td>\n",
       "      <td>0</td>\n",
       "      <td>16352</td>\n",
       "      <td></td>\n",
       "      <td>Lamar Simpson</td>\n",
       "      <td>Peter Larson</td>\n",
       "      <td>Ed Corliss</td>\n",
       "    </tr>\n",
       "  </tbody>\n",
       "</table>\n",
       "<p>5 rows × 27 columns</p>\n",
       "</div>"
      ],
      "text/plain": [
       "     game_id                home_team home_id  home_rank home_record  \\\n",
       "0  401575451          Kansas Jayhawks    2305        1.0         1-0   \n",
       "1  401576147         Duke Blue Devils     150        2.0         1-0   \n",
       "2  401577640      Purdue Boilermakers    2509        3.0         1-0   \n",
       "3  401581835  Michigan State Spartans     127        4.0         0-1   \n",
       "4  401577598  Marquette Golden Eagles     269        5.0         1-0   \n",
       "\n",
       "   home_score                      away_team away_id  away_rank away_record  \\\n",
       "0          99  North Carolina Central Eagles    2428        NaN         0-1   \n",
       "1          92            Dartmouth Big Green     159        NaN         0-1   \n",
       "2          98               Samford Bulldogs    2535        NaN         0-1   \n",
       "3          76            James Madison Dukes     256        NaN         1-0   \n",
       "4          92      Northern Illinois Huskies    2459        NaN         0-1   \n",
       "\n",
       "   ...           game_day     game_time            game_loc  \\\n",
       "0  ...  November 06, 2023  05:00 PM PST        Lawrence, KS   \n",
       "1  ...  November 06, 2023  06:00 PM PST          Durham, NC   \n",
       "2  ...  November 06, 2023  03:30 PM PST  West Lafayette, IN   \n",
       "3  ...  November 06, 2023  05:30 PM PST    East Lansing, MI   \n",
       "4  ...  November 06, 2023  05:30 PM PST       Milwaukee, WI   \n",
       "\n",
       "                    arena  arena_capacity  attendance   tv_network  \\\n",
       "0        Allen Fieldhouse               0       16300  BIG12|ESPN+   \n",
       "1  Cameron Indoor Stadium               0        9314         ACCN   \n",
       "2            Mackey Arena               0       14876          BTN   \n",
       "3          Breslin Center               0       14797          BTN   \n",
       "4            Fiserv Forum               0       16352                \n",
       "\n",
       "         referee_1     referee_2     referee_3  \n",
       "0    Gerry Pollard    Amy Bonner  Chance Moore  \n",
       "1     Jamie Luckie  Ryan Sassano   Clare Aubry  \n",
       "2  D.J. Carstensen  Edwin  Young  Jourdan Love  \n",
       "3     Brian Dorsey   Chad Barlow  Brian McNutt  \n",
       "4    Lamar Simpson  Peter Larson    Ed Corliss  \n",
       "\n",
       "[5 rows x 27 columns]"
      ]
     },
     "execution_count": 110,
     "metadata": {},
     "output_type": "execute_result"
    }
   ],
   "source": [
    "game_info_df.head()"
   ]
  },
  {
   "cell_type": "code",
   "execution_count": 111,
   "metadata": {},
   "outputs": [
    {
     "data": {
      "text/plain": [
       "Index(['game_id', 'home_team', 'home_id', 'home_rank', 'home_record',\n",
       "       'home_score', 'away_team', 'away_id', 'away_rank', 'away_record',\n",
       "       'away_score', 'home_win', 'num_ots', 'is_conference', 'is_neutral',\n",
       "       'is_postseason', 'tournament', 'game_day', 'game_time', 'game_loc',\n",
       "       'arena', 'arena_capacity', 'attendance', 'tv_network', 'referee_1',\n",
       "       'referee_2', 'referee_3'],\n",
       "      dtype='object')"
      ]
     },
     "execution_count": 111,
     "metadata": {},
     "output_type": "execute_result"
    }
   ],
   "source": [
    "game_info_df.columns"
   ]
  },
  {
   "cell_type": "code",
   "execution_count": 188,
   "metadata": {},
   "outputs": [
    {
     "name": "stdout",
     "output_type": "stream",
     "text": [
      "Shape before filtering: (6148, 27)\n",
      "Shape after filtering: (5638, 27)\n"
     ]
    }
   ],
   "source": [
    "print('Shape before filtering:', game_info_df.shape)\n",
    "# filtered_df = game_info_df[game_info_df['is_postseason']==False]\n",
    "filtered_df = game_info_df.copy()\n",
    "filtered_df = filtered_df[(game_info_df['home_record']!='') & (game_info_df['away_record']!='')]\n",
    "filtered_df = filtered_df.dropna(subset=['home_record','away_record'])\n",
    "print('Shape after filtering:', filtered_df.shape)"
   ]
  },
  {
   "cell_type": "code",
   "execution_count": 189,
   "metadata": {},
   "outputs": [],
   "source": [
    "exclude_cols = ['home_win','home_score', 'away_score', 'home_id', 'away_id','num_ots', 'is_postseason', 'tournament', 'game_time', 'game_loc',\n",
    "       'arena', 'arena_capacity', 'attendance', 'tv_network', 'referee_1',\n",
    "       'referee_2', 'referee_3']\n",
    "       \n",
    "date_col = 'game_day'\n",
    "onehot_cols = ['home_team','away_team']\n",
    "bool_cols = ['is_conference','is_neutral']\n",
    "rank_cols = ['home_rank','away_rank']\n",
    "records_cols = ['home_record','away_record']\n",
    "# target_cols = ['home_score','away_score']\n"
   ]
  },
  {
   "cell_type": "markdown",
   "metadata": {},
   "source": [
    "### Transform"
   ]
  },
  {
   "cell_type": "code",
   "execution_count": 190,
   "metadata": {},
   "outputs": [
    {
     "name": "stdout",
     "output_type": "stream",
     "text": [
      "(5638, 12)\n"
     ]
    }
   ],
   "source": [
    "# Exclude Cols\n",
    "transformed_df = filtered_df.drop(exclude_cols, axis=1)\n",
    "\n",
    "# Date col\n",
    "transformed_df['game_day'] = pd.to_datetime(transformed_df['game_day'])\n",
    "\n",
    "# One Hot Encode\n",
    "# transformed_df = pd.get_dummies(transformed_df, columns=onehot_cols, prefix = ['home','away'], dtype=int)\n",
    "\n",
    "# Convert Bool to Int\n",
    "for col in bool_cols:\n",
    "    transformed_df[col] = transformed_df[col].astype(int)\n",
    "\n",
    "# Replace NULL Ranks with 99\n",
    "for col in rank_cols:\n",
    "    transformed_df[col] = transformed_df[col].fillna(99)\n",
    "\n",
    "# Conver Record cols to Wins and Losses cols\n",
    "for col in records_cols:\n",
    "    team_type = col.split('_')[0]\n",
    "    transformed_df[col] = transformed_df[col].astype(str)\n",
    "    wins = transformed_df.loc[:,col].apply(lambda x: x.split('-')[0])\n",
    "    losses = transformed_df.loc[:,col].apply(lambda x: x.split('-')[1])    \n",
    "    transformed_df[team_type+'Team_wins'] = wins\n",
    "    transformed_df[team_type+'Team_losses'] = losses\n",
    "    transformed_df = transformed_df.drop(col,axis=1)\n",
    "\n",
    "print(transformed_df.shape)"
   ]
  },
  {
   "cell_type": "markdown",
   "metadata": {},
   "source": [
    "### Transformed Preview"
   ]
  },
  {
   "cell_type": "code",
   "execution_count": 191,
   "metadata": {},
   "outputs": [
    {
     "data": {
      "text/html": [
       "<div>\n",
       "<style scoped>\n",
       "    .dataframe tbody tr th:only-of-type {\n",
       "        vertical-align: middle;\n",
       "    }\n",
       "\n",
       "    .dataframe tbody tr th {\n",
       "        vertical-align: top;\n",
       "    }\n",
       "\n",
       "    .dataframe thead th {\n",
       "        text-align: right;\n",
       "    }\n",
       "</style>\n",
       "<table border=\"1\" class=\"dataframe\">\n",
       "  <thead>\n",
       "    <tr style=\"text-align: right;\">\n",
       "      <th></th>\n",
       "      <th>game_id</th>\n",
       "      <th>home_team</th>\n",
       "      <th>home_rank</th>\n",
       "      <th>away_team</th>\n",
       "      <th>away_rank</th>\n",
       "      <th>is_conference</th>\n",
       "      <th>is_neutral</th>\n",
       "      <th>game_day</th>\n",
       "      <th>homeTeam_wins</th>\n",
       "      <th>homeTeam_losses</th>\n",
       "      <th>awayTeam_wins</th>\n",
       "      <th>awayTeam_losses</th>\n",
       "    </tr>\n",
       "  </thead>\n",
       "  <tbody>\n",
       "    <tr>\n",
       "      <th>0</th>\n",
       "      <td>401575451</td>\n",
       "      <td>Kansas Jayhawks</td>\n",
       "      <td>1.0</td>\n",
       "      <td>North Carolina Central Eagles</td>\n",
       "      <td>99.0</td>\n",
       "      <td>0</td>\n",
       "      <td>0</td>\n",
       "      <td>2023-11-06</td>\n",
       "      <td>1</td>\n",
       "      <td>0</td>\n",
       "      <td>0</td>\n",
       "      <td>1</td>\n",
       "    </tr>\n",
       "    <tr>\n",
       "      <th>1</th>\n",
       "      <td>401576147</td>\n",
       "      <td>Duke Blue Devils</td>\n",
       "      <td>2.0</td>\n",
       "      <td>Dartmouth Big Green</td>\n",
       "      <td>99.0</td>\n",
       "      <td>0</td>\n",
       "      <td>0</td>\n",
       "      <td>2023-11-06</td>\n",
       "      <td>1</td>\n",
       "      <td>0</td>\n",
       "      <td>0</td>\n",
       "      <td>1</td>\n",
       "    </tr>\n",
       "    <tr>\n",
       "      <th>2</th>\n",
       "      <td>401577640</td>\n",
       "      <td>Purdue Boilermakers</td>\n",
       "      <td>3.0</td>\n",
       "      <td>Samford Bulldogs</td>\n",
       "      <td>99.0</td>\n",
       "      <td>0</td>\n",
       "      <td>0</td>\n",
       "      <td>2023-11-06</td>\n",
       "      <td>1</td>\n",
       "      <td>0</td>\n",
       "      <td>0</td>\n",
       "      <td>1</td>\n",
       "    </tr>\n",
       "    <tr>\n",
       "      <th>3</th>\n",
       "      <td>401581835</td>\n",
       "      <td>Michigan State Spartans</td>\n",
       "      <td>4.0</td>\n",
       "      <td>James Madison Dukes</td>\n",
       "      <td>99.0</td>\n",
       "      <td>0</td>\n",
       "      <td>0</td>\n",
       "      <td>2023-11-06</td>\n",
       "      <td>0</td>\n",
       "      <td>1</td>\n",
       "      <td>1</td>\n",
       "      <td>0</td>\n",
       "    </tr>\n",
       "    <tr>\n",
       "      <th>4</th>\n",
       "      <td>401577598</td>\n",
       "      <td>Marquette Golden Eagles</td>\n",
       "      <td>5.0</td>\n",
       "      <td>Northern Illinois Huskies</td>\n",
       "      <td>99.0</td>\n",
       "      <td>0</td>\n",
       "      <td>0</td>\n",
       "      <td>2023-11-06</td>\n",
       "      <td>1</td>\n",
       "      <td>0</td>\n",
       "      <td>0</td>\n",
       "      <td>1</td>\n",
       "    </tr>\n",
       "  </tbody>\n",
       "</table>\n",
       "</div>"
      ],
      "text/plain": [
       "     game_id                home_team  home_rank  \\\n",
       "0  401575451          Kansas Jayhawks        1.0   \n",
       "1  401576147         Duke Blue Devils        2.0   \n",
       "2  401577640      Purdue Boilermakers        3.0   \n",
       "3  401581835  Michigan State Spartans        4.0   \n",
       "4  401577598  Marquette Golden Eagles        5.0   \n",
       "\n",
       "                       away_team  away_rank  is_conference  is_neutral  \\\n",
       "0  North Carolina Central Eagles       99.0              0           0   \n",
       "1            Dartmouth Big Green       99.0              0           0   \n",
       "2               Samford Bulldogs       99.0              0           0   \n",
       "3            James Madison Dukes       99.0              0           0   \n",
       "4      Northern Illinois Huskies       99.0              0           0   \n",
       "\n",
       "    game_day homeTeam_wins homeTeam_losses awayTeam_wins awayTeam_losses  \n",
       "0 2023-11-06             1               0             0               1  \n",
       "1 2023-11-06             1               0             0               1  \n",
       "2 2023-11-06             1               0             0               1  \n",
       "3 2023-11-06             0               1             1               0  \n",
       "4 2023-11-06             1               0             0               1  "
      ]
     },
     "execution_count": 191,
     "metadata": {},
     "output_type": "execute_result"
    }
   ],
   "source": [
    "transformed_df.head()"
   ]
  },
  {
   "cell_type": "markdown",
   "metadata": {},
   "source": [
    "## Boxscores"
   ]
  },
  {
   "cell_type": "code",
   "execution_count": 119,
   "metadata": {},
   "outputs": [],
   "source": [
    "#TODO: convert home and away teams to vectors in transformed df?\n",
    "#TODO; convert boxscores to vectors\n",
    "    # TODO: find top 7-8 players by min played and find avg stats using those players and not whole team"
   ]
  },
  {
   "cell_type": "code",
   "execution_count": 120,
   "metadata": {},
   "outputs": [
    {
     "data": {
      "text/plain": [
       "Index(['game_id', 'team', 'player', 'player_id', 'position', 'starter', 'min',\n",
       "       'fgm', 'fga', '2pm', '2pa', '3pm', '3pa', 'ftm', 'fta', 'oreb', 'dreb',\n",
       "       'reb', 'ast', 'stl', 'blk', 'to', 'pf', 'pts'],\n",
       "      dtype='object')"
      ]
     },
     "execution_count": 120,
     "metadata": {},
     "output_type": "execute_result"
    }
   ],
   "source": [
    "boxscore_df.columns"
   ]
  },
  {
   "cell_type": "code",
   "execution_count": 192,
   "metadata": {},
   "outputs": [],
   "source": [
    "stat_cols = ['fgm', 'fga', '2pm', '2pa', '3pm', '3pa', 'ftm', 'fta', 'oreb', 'dreb',\n",
    "       'reb', 'ast', 'stl', 'blk', 'to', 'pf']\n",
    "exclude_boxscore_cols = ['player', 'player_id', 'position', 'starter', 'min']\n"
   ]
  },
  {
   "cell_type": "markdown",
   "metadata": {},
   "source": [
    "### Filter to Boxscore Totals"
   ]
  },
  {
   "cell_type": "code",
   "execution_count": 193,
   "metadata": {},
   "outputs": [],
   "source": [
    "boxscores_filtered = boxscore_df[(boxscore_df.player_id == 'TOTAL')]"
   ]
  },
  {
   "cell_type": "markdown",
   "metadata": {},
   "source": [
    "### Normalize Boxscore Stats"
   ]
  },
  {
   "cell_type": "code",
   "execution_count": 194,
   "metadata": {},
   "outputs": [
    {
     "name": "stderr",
     "output_type": "stream",
     "text": [
      "/var/folders/z_/b2p80qvn353dbq0c1vfq0q600000gq/T/ipykernel_7923/2050784139.py:3: SettingWithCopyWarning: \n",
      "A value is trying to be set on a copy of a slice from a DataFrame.\n",
      "Try using .loc[row_indexer,col_indexer] = value instead\n",
      "\n",
      "See the caveats in the documentation: https://pandas.pydata.org/pandas-docs/stable/user_guide/indexing.html#returning-a-view-versus-a-copy\n",
      "  boxscores_filtered[stat_cols] = scaler.fit_transform(boxscores_filtered[stat_cols])\n"
     ]
    }
   ],
   "source": [
    "# Normalize Stats\n",
    "scaler = MinMaxScaler()\n",
    "boxscores_filtered[stat_cols] = scaler.fit_transform(boxscores_filtered[stat_cols])"
   ]
  },
  {
   "cell_type": "code",
   "execution_count": 195,
   "metadata": {},
   "outputs": [
    {
     "data": {
      "text/html": [
       "<div>\n",
       "<style scoped>\n",
       "    .dataframe tbody tr th:only-of-type {\n",
       "        vertical-align: middle;\n",
       "    }\n",
       "\n",
       "    .dataframe tbody tr th {\n",
       "        vertical-align: top;\n",
       "    }\n",
       "\n",
       "    .dataframe thead th {\n",
       "        text-align: right;\n",
       "    }\n",
       "</style>\n",
       "<table border=\"1\" class=\"dataframe\">\n",
       "  <thead>\n",
       "    <tr style=\"text-align: right;\">\n",
       "      <th></th>\n",
       "      <th>game_id</th>\n",
       "      <th>team</th>\n",
       "      <th>player</th>\n",
       "      <th>player_id</th>\n",
       "      <th>position</th>\n",
       "      <th>starter</th>\n",
       "      <th>min</th>\n",
       "      <th>fgm</th>\n",
       "      <th>fga</th>\n",
       "      <th>2pm</th>\n",
       "      <th>...</th>\n",
       "      <th>fta</th>\n",
       "      <th>oreb</th>\n",
       "      <th>dreb</th>\n",
       "      <th>reb</th>\n",
       "      <th>ast</th>\n",
       "      <th>stl</th>\n",
       "      <th>blk</th>\n",
       "      <th>to</th>\n",
       "      <th>pf</th>\n",
       "      <th>pts</th>\n",
       "    </tr>\n",
       "  </thead>\n",
       "  <tbody>\n",
       "    <tr>\n",
       "      <th>12</th>\n",
       "      <td>401575451</td>\n",
       "      <td>North Carolina Central Eagles</td>\n",
       "      <td>TEAM</td>\n",
       "      <td>TOTAL</td>\n",
       "      <td>TOTAL</td>\n",
       "      <td>False</td>\n",
       "      <td>NaN</td>\n",
       "      <td>0.363636</td>\n",
       "      <td>0.558824</td>\n",
       "      <td>0.285714</td>\n",
       "      <td>...</td>\n",
       "      <td>0.352941</td>\n",
       "      <td>0.272727</td>\n",
       "      <td>0.250000</td>\n",
       "      <td>0.2875</td>\n",
       "      <td>0.189189</td>\n",
       "      <td>0.304348</td>\n",
       "      <td>0.055556</td>\n",
       "      <td>0.257143</td>\n",
       "      <td>0.325</td>\n",
       "      <td>56</td>\n",
       "    </tr>\n",
       "    <tr>\n",
       "      <th>25</th>\n",
       "      <td>401575451</td>\n",
       "      <td>Kansas Jayhawks</td>\n",
       "      <td>TEAM</td>\n",
       "      <td>TOTAL</td>\n",
       "      <td>TOTAL</td>\n",
       "      <td>False</td>\n",
       "      <td>NaN</td>\n",
       "      <td>0.709091</td>\n",
       "      <td>0.549020</td>\n",
       "      <td>0.530612</td>\n",
       "      <td>...</td>\n",
       "      <td>0.196078</td>\n",
       "      <td>0.121212</td>\n",
       "      <td>0.589286</td>\n",
       "      <td>0.4625</td>\n",
       "      <td>0.918919</td>\n",
       "      <td>0.173913</td>\n",
       "      <td>0.166667</td>\n",
       "      <td>0.285714</td>\n",
       "      <td>0.325</td>\n",
       "      <td>99</td>\n",
       "    </tr>\n",
       "    <tr>\n",
       "      <th>41</th>\n",
       "      <td>401576147</td>\n",
       "      <td>Dartmouth Big Green</td>\n",
       "      <td>TEAM</td>\n",
       "      <td>TOTAL</td>\n",
       "      <td>TOTAL</td>\n",
       "      <td>False</td>\n",
       "      <td>NaN</td>\n",
       "      <td>0.345455</td>\n",
       "      <td>0.549020</td>\n",
       "      <td>0.306122</td>\n",
       "      <td>...</td>\n",
       "      <td>0.333333</td>\n",
       "      <td>0.303030</td>\n",
       "      <td>0.339286</td>\n",
       "      <td>0.3625</td>\n",
       "      <td>0.297297</td>\n",
       "      <td>0.217391</td>\n",
       "      <td>0.055556</td>\n",
       "      <td>0.371429</td>\n",
       "      <td>0.400</td>\n",
       "      <td>54</td>\n",
       "    </tr>\n",
       "    <tr>\n",
       "      <th>54</th>\n",
       "      <td>401576147</td>\n",
       "      <td>Duke Blue Devils</td>\n",
       "      <td>TEAM</td>\n",
       "      <td>TOTAL</td>\n",
       "      <td>TOTAL</td>\n",
       "      <td>False</td>\n",
       "      <td>NaN</td>\n",
       "      <td>0.690909</td>\n",
       "      <td>0.578431</td>\n",
       "      <td>0.632653</td>\n",
       "      <td>...</td>\n",
       "      <td>0.235294</td>\n",
       "      <td>0.151515</td>\n",
       "      <td>0.500000</td>\n",
       "      <td>0.4125</td>\n",
       "      <td>0.486486</td>\n",
       "      <td>0.260870</td>\n",
       "      <td>0.333333</td>\n",
       "      <td>0.257143</td>\n",
       "      <td>0.450</td>\n",
       "      <td>92</td>\n",
       "    </tr>\n",
       "    <tr>\n",
       "      <th>68</th>\n",
       "      <td>401577640</td>\n",
       "      <td>Samford Bulldogs</td>\n",
       "      <td>TEAM</td>\n",
       "      <td>TOTAL</td>\n",
       "      <td>TOTAL</td>\n",
       "      <td>False</td>\n",
       "      <td>NaN</td>\n",
       "      <td>0.309091</td>\n",
       "      <td>0.666667</td>\n",
       "      <td>0.244898</td>\n",
       "      <td>...</td>\n",
       "      <td>0.274510</td>\n",
       "      <td>0.424242</td>\n",
       "      <td>0.339286</td>\n",
       "      <td>0.4125</td>\n",
       "      <td>0.297297</td>\n",
       "      <td>0.478261</td>\n",
       "      <td>0.000000</td>\n",
       "      <td>0.428571</td>\n",
       "      <td>0.475</td>\n",
       "      <td>45</td>\n",
       "    </tr>\n",
       "  </tbody>\n",
       "</table>\n",
       "<p>5 rows × 24 columns</p>\n",
       "</div>"
      ],
      "text/plain": [
       "      game_id                           team player player_id position  \\\n",
       "12  401575451  North Carolina Central Eagles   TEAM     TOTAL    TOTAL   \n",
       "25  401575451                Kansas Jayhawks   TEAM     TOTAL    TOTAL   \n",
       "41  401576147            Dartmouth Big Green   TEAM     TOTAL    TOTAL   \n",
       "54  401576147               Duke Blue Devils   TEAM     TOTAL    TOTAL   \n",
       "68  401577640               Samford Bulldogs   TEAM     TOTAL    TOTAL   \n",
       "\n",
       "   starter  min       fgm       fga       2pm  ...       fta      oreb  \\\n",
       "12   False  NaN  0.363636  0.558824  0.285714  ...  0.352941  0.272727   \n",
       "25   False  NaN  0.709091  0.549020  0.530612  ...  0.196078  0.121212   \n",
       "41   False  NaN  0.345455  0.549020  0.306122  ...  0.333333  0.303030   \n",
       "54   False  NaN  0.690909  0.578431  0.632653  ...  0.235294  0.151515   \n",
       "68   False  NaN  0.309091  0.666667  0.244898  ...  0.274510  0.424242   \n",
       "\n",
       "        dreb     reb       ast       stl       blk        to     pf  pts  \n",
       "12  0.250000  0.2875  0.189189  0.304348  0.055556  0.257143  0.325   56  \n",
       "25  0.589286  0.4625  0.918919  0.173913  0.166667  0.285714  0.325   99  \n",
       "41  0.339286  0.3625  0.297297  0.217391  0.055556  0.371429  0.400   54  \n",
       "54  0.500000  0.4125  0.486486  0.260870  0.333333  0.257143  0.450   92  \n",
       "68  0.339286  0.4125  0.297297  0.478261  0.000000  0.428571  0.475   45  \n",
       "\n",
       "[5 rows x 24 columns]"
      ]
     },
     "execution_count": 195,
     "metadata": {},
     "output_type": "execute_result"
    }
   ],
   "source": [
    "boxscores_filtered.head()"
   ]
  },
  {
   "cell_type": "markdown",
   "metadata": {},
   "source": [
    "### Convert Stat Columns into One stats_vector"
   ]
  },
  {
   "cell_type": "code",
   "execution_count": 196,
   "metadata": {},
   "outputs": [],
   "source": [
    "# Get top 8 guys by minutes. Convert their stats into matrices. For input when predicting, will need to find averages and fill in each value\n",
    "# OR just get their totals?\n",
    "# boxscores_filtered['stats_vector'] = list(np.array(boxscores_filtered.loc[:,stat_cols]))\n",
    "# bs_v = boxscores_filtered.drop(stat_cols+exclude_boxscore_cols,axis=1).reset_index(drop=True)\n",
    "# bs_v\n",
    "# test_boxscore.assign(new=pd.factorize(df.))\n",
    "\n",
    "# Ignore vectors for now... \n",
    "bs_v = boxscores_filtered.drop(exclude_boxscore_cols,axis=1).reset_index(drop=True)\n",
    "bs=bs_v.copy()"
   ]
  },
  {
   "cell_type": "code",
   "execution_count": 126,
   "metadata": {},
   "outputs": [
    {
     "data": {
      "text/plain": [
       "(11242, 19)"
      ]
     },
     "execution_count": 126,
     "metadata": {},
     "output_type": "execute_result"
    }
   ],
   "source": [
    "bs.shape"
   ]
  },
  {
   "cell_type": "code",
   "execution_count": 197,
   "metadata": {},
   "outputs": [],
   "source": [
    "# df_rolling  = df_rolling.groupby(['team'], group_keys=False).apply(find_team_averages)\n",
    "# Use cumulative instead of rolling\n",
    "def find_team_averages(team):\n",
    "    rolling = team.expanding().mean()\n",
    "    return rolling\n",
    "\n",
    "def shift_score(team):\n",
    "    team['prev_scores_cum_avg'] = team['score'].expanding().mean()\n",
    "    team['prev_scores_cum_avg'] = team['prev_scores_cum_avg'].shift(1)\n",
    "    return team\n"
   ]
  },
  {
   "cell_type": "code",
   "execution_count": 198,
   "metadata": {},
   "outputs": [
    {
     "data": {
      "text/html": [
       "<div>\n",
       "<style scoped>\n",
       "    .dataframe tbody tr th:only-of-type {\n",
       "        vertical-align: middle;\n",
       "    }\n",
       "\n",
       "    .dataframe tbody tr th {\n",
       "        vertical-align: top;\n",
       "    }\n",
       "\n",
       "    .dataframe thead th {\n",
       "        text-align: right;\n",
       "    }\n",
       "</style>\n",
       "<table border=\"1\" class=\"dataframe\">\n",
       "  <thead>\n",
       "    <tr style=\"text-align: right;\">\n",
       "      <th></th>\n",
       "      <th>game_id</th>\n",
       "      <th>team_home</th>\n",
       "      <th>fgm_home</th>\n",
       "      <th>fga_home</th>\n",
       "      <th>2pm_home</th>\n",
       "      <th>2pa_home</th>\n",
       "      <th>3pm_home</th>\n",
       "      <th>3pa_home</th>\n",
       "      <th>ftm_home</th>\n",
       "      <th>fta_home</th>\n",
       "      <th>...</th>\n",
       "      <th>ftm_away</th>\n",
       "      <th>fta_away</th>\n",
       "      <th>oreb_away</th>\n",
       "      <th>dreb_away</th>\n",
       "      <th>reb_away</th>\n",
       "      <th>ast_away</th>\n",
       "      <th>stl_away</th>\n",
       "      <th>blk_away</th>\n",
       "      <th>to_away</th>\n",
       "      <th>pf_away</th>\n",
       "    </tr>\n",
       "  </thead>\n",
       "  <tbody>\n",
       "    <tr>\n",
       "      <th>0</th>\n",
       "      <td>401575451</td>\n",
       "      <td>Kansas Jayhawks</td>\n",
       "      <td>0.709091</td>\n",
       "      <td>0.549020</td>\n",
       "      <td>0.530612</td>\n",
       "      <td>0.440000</td>\n",
       "      <td>0.590909</td>\n",
       "      <td>0.442308</td>\n",
       "      <td>0.200</td>\n",
       "      <td>0.196078</td>\n",
       "      <td>...</td>\n",
       "      <td>0.250</td>\n",
       "      <td>0.352941</td>\n",
       "      <td>0.272727</td>\n",
       "      <td>0.250000</td>\n",
       "      <td>0.2875</td>\n",
       "      <td>0.189189</td>\n",
       "      <td>0.304348</td>\n",
       "      <td>0.055556</td>\n",
       "      <td>0.257143</td>\n",
       "      <td>0.325</td>\n",
       "    </tr>\n",
       "    <tr>\n",
       "      <th>1</th>\n",
       "      <td>401576147</td>\n",
       "      <td>Duke Blue Devils</td>\n",
       "      <td>0.690909</td>\n",
       "      <td>0.578431</td>\n",
       "      <td>0.632653</td>\n",
       "      <td>0.560000</td>\n",
       "      <td>0.318182</td>\n",
       "      <td>0.326923</td>\n",
       "      <td>0.225</td>\n",
       "      <td>0.235294</td>\n",
       "      <td>...</td>\n",
       "      <td>0.300</td>\n",
       "      <td>0.333333</td>\n",
       "      <td>0.303030</td>\n",
       "      <td>0.339286</td>\n",
       "      <td>0.3625</td>\n",
       "      <td>0.297297</td>\n",
       "      <td>0.217391</td>\n",
       "      <td>0.055556</td>\n",
       "      <td>0.371429</td>\n",
       "      <td>0.400</td>\n",
       "    </tr>\n",
       "    <tr>\n",
       "      <th>2</th>\n",
       "      <td>401577640</td>\n",
       "      <td>Purdue Boilermakers</td>\n",
       "      <td>0.618182</td>\n",
       "      <td>0.607843</td>\n",
       "      <td>0.367347</td>\n",
       "      <td>0.440000</td>\n",
       "      <td>0.727273</td>\n",
       "      <td>0.557692</td>\n",
       "      <td>0.350</td>\n",
       "      <td>0.431373</td>\n",
       "      <td>...</td>\n",
       "      <td>0.150</td>\n",
       "      <td>0.274510</td>\n",
       "      <td>0.424242</td>\n",
       "      <td>0.339286</td>\n",
       "      <td>0.4125</td>\n",
       "      <td>0.297297</td>\n",
       "      <td>0.478261</td>\n",
       "      <td>0.000000</td>\n",
       "      <td>0.428571</td>\n",
       "      <td>0.475</td>\n",
       "    </tr>\n",
       "    <tr>\n",
       "      <th>3</th>\n",
       "      <td>401581835</td>\n",
       "      <td>Michigan State Spartans</td>\n",
       "      <td>0.472727</td>\n",
       "      <td>0.705882</td>\n",
       "      <td>0.510204</td>\n",
       "      <td>0.693333</td>\n",
       "      <td>0.045455</td>\n",
       "      <td>0.384615</td>\n",
       "      <td>0.575</td>\n",
       "      <td>0.725490</td>\n",
       "      <td>...</td>\n",
       "      <td>0.525</td>\n",
       "      <td>0.549020</td>\n",
       "      <td>0.424242</td>\n",
       "      <td>0.660714</td>\n",
       "      <td>0.6375</td>\n",
       "      <td>0.378378</td>\n",
       "      <td>0.217391</td>\n",
       "      <td>0.222222</td>\n",
       "      <td>0.428571</td>\n",
       "      <td>0.800</td>\n",
       "    </tr>\n",
       "    <tr>\n",
       "      <th>4</th>\n",
       "      <td>401577598</td>\n",
       "      <td>Marquette Golden Eagles</td>\n",
       "      <td>0.636364</td>\n",
       "      <td>0.656863</td>\n",
       "      <td>0.530612</td>\n",
       "      <td>0.560000</td>\n",
       "      <td>0.409091</td>\n",
       "      <td>0.480769</td>\n",
       "      <td>0.325</td>\n",
       "      <td>0.411765</td>\n",
       "      <td>...</td>\n",
       "      <td>0.275</td>\n",
       "      <td>0.313725</td>\n",
       "      <td>0.545455</td>\n",
       "      <td>0.392857</td>\n",
       "      <td>0.5000</td>\n",
       "      <td>0.270270</td>\n",
       "      <td>0.260870</td>\n",
       "      <td>0.222222</td>\n",
       "      <td>0.400000</td>\n",
       "      <td>0.325</td>\n",
       "    </tr>\n",
       "  </tbody>\n",
       "</table>\n",
       "<p>5 rows × 48 columns</p>\n",
       "</div>"
      ],
      "text/plain": [
       "     game_id                team_home  fgm_home  fga_home  2pm_home  2pa_home  \\\n",
       "0  401575451          Kansas Jayhawks  0.709091  0.549020  0.530612  0.440000   \n",
       "1  401576147         Duke Blue Devils  0.690909  0.578431  0.632653  0.560000   \n",
       "2  401577640      Purdue Boilermakers  0.618182  0.607843  0.367347  0.440000   \n",
       "3  401581835  Michigan State Spartans  0.472727  0.705882  0.510204  0.693333   \n",
       "4  401577598  Marquette Golden Eagles  0.636364  0.656863  0.530612  0.560000   \n",
       "\n",
       "   3pm_home  3pa_home  ftm_home  fta_home  ...  ftm_away  fta_away  oreb_away  \\\n",
       "0  0.590909  0.442308     0.200  0.196078  ...     0.250  0.352941   0.272727   \n",
       "1  0.318182  0.326923     0.225  0.235294  ...     0.300  0.333333   0.303030   \n",
       "2  0.727273  0.557692     0.350  0.431373  ...     0.150  0.274510   0.424242   \n",
       "3  0.045455  0.384615     0.575  0.725490  ...     0.525  0.549020   0.424242   \n",
       "4  0.409091  0.480769     0.325  0.411765  ...     0.275  0.313725   0.545455   \n",
       "\n",
       "   dreb_away  reb_away  ast_away  stl_away  blk_away   to_away  pf_away  \n",
       "0   0.250000    0.2875  0.189189  0.304348  0.055556  0.257143    0.325  \n",
       "1   0.339286    0.3625  0.297297  0.217391  0.055556  0.371429    0.400  \n",
       "2   0.339286    0.4125  0.297297  0.478261  0.000000  0.428571    0.475  \n",
       "3   0.660714    0.6375  0.378378  0.217391  0.222222  0.428571    0.800  \n",
       "4   0.392857    0.5000  0.270270  0.260870  0.222222  0.400000    0.325  \n",
       "\n",
       "[5 rows x 48 columns]"
      ]
     },
     "execution_count": 198,
     "metadata": {},
     "output_type": "execute_result"
    }
   ],
   "source": [
    "# Join in transformed on game ID and the teams\n",
    "\n",
    "include_cols = ['game_id','team','pts']+stat_cols\n",
    "home_boxscores_df = transformed_df.rename(columns={'home_team':'team'})\n",
    "home_boxscores_df['home_team']=home_boxscores_df['team']\n",
    "\n",
    "\n",
    "away_boxscores_df = transformed_df.rename(columns={'away_team':'team'})\n",
    "away_boxscores_df['away_team']=away_boxscores_df['team']\n",
    "\n",
    "home_boxscores = pd.merge(bs, home_boxscores_df, how='left', on=['game_id','team'], validate='one_to_one').dropna()\n",
    "# home_boxscores = home_boxscores.drop(['team'],axis=1)\n",
    "away_boxscores = pd.merge(bs, away_boxscores_df, how='left', on=['game_id','team'], validate='one_to_one').dropna()[include_cols]\n",
    "# combined_boxscores = pd.merge(home_boxscores,away_boxscores,on='game_id',validate='one_to_one',suffixes=('_home','_away'))\n",
    "combined_boxscores = pd.merge(home_boxscores,away_boxscores,on='game_id',validate='one_to_one',suffixes=('_home','_away'))\n",
    "combined_boxscores.head()"
   ]
  },
  {
   "cell_type": "code",
   "execution_count": 199,
   "metadata": {},
   "outputs": [
    {
     "name": "stdout",
     "output_type": "stream",
     "text": [
      "Index(['game_id', 'team_home', 'fgm_home', 'fga_home', '2pm_home', '2pa_home',\n",
      "       '3pm_home', '3pa_home', 'ftm_home', 'fta_home', 'oreb_home',\n",
      "       'dreb_home', 'reb_home', 'ast_home', 'stl_home', 'blk_home', 'to_home',\n",
      "       'pf_home', 'pts_home', 'home_rank', 'away_team', 'away_rank',\n",
      "       'is_conference', 'is_neutral', 'game_day', 'homeTeam_wins',\n",
      "       'homeTeam_losses', 'awayTeam_wins', 'awayTeam_losses', 'home_team',\n",
      "       'team_away', 'pts_away', 'fgm_away', 'fga_away', '2pm_away', '2pa_away',\n",
      "       '3pm_away', '3pa_away', 'ftm_away', 'fta_away', 'oreb_away',\n",
      "       'dreb_away', 'reb_away', 'ast_away', 'stl_away', 'blk_away', 'to_away',\n",
      "       'pf_away'],\n",
      "      dtype='object')\n",
      "(5638, 48)\n"
     ]
    }
   ],
   "source": [
    "print(combined_boxscores.columns)\n",
    "print(combined_boxscores.shape)"
   ]
  },
  {
   "cell_type": "code",
   "execution_count": 200,
   "metadata": {},
   "outputs": [],
   "source": [
    "def find_team_starters(team):\n",
    "    team['num_starts'] = team['starter'].expanding().sum()\n",
    "    team['num_starts'] = team['num_starts'].shift(1).fillna(1)\n",
    "    return team\n",
    "\n",
    "boxscore_df['starter'] = boxscore_df['starter'].astype(int)\n",
    "\n",
    "rolling_num_starts_df = boxscore_df.groupby(['team','player'],group_keys=False)[['starter']].apply(find_team_starters)#.rename(columns={'starter':''})\n",
    "boxscores_with_rolling_num_starts = pd.concat([boxscore_df, rolling_num_starts_df],axis=1)\n",
    "# boxscores_with_rolling_num_starts.head()\n",
    "# final_df = pd.merge(combined_boxscores, boxscores_with_rolling_num_starts, on=['game_id','team_home','player'])"
   ]
  },
  {
   "cell_type": "code",
   "execution_count": 201,
   "metadata": {},
   "outputs": [
    {
     "data": {
      "text/html": [
       "<div>\n",
       "<style scoped>\n",
       "    .dataframe tbody tr th:only-of-type {\n",
       "        vertical-align: middle;\n",
       "    }\n",
       "\n",
       "    .dataframe tbody tr th {\n",
       "        vertical-align: top;\n",
       "    }\n",
       "\n",
       "    .dataframe thead th {\n",
       "        text-align: right;\n",
       "    }\n",
       "</style>\n",
       "<table border=\"1\" class=\"dataframe\">\n",
       "  <thead>\n",
       "    <tr style=\"text-align: right;\">\n",
       "      <th></th>\n",
       "      <th></th>\n",
       "      <th>player</th>\n",
       "    </tr>\n",
       "    <tr>\n",
       "      <th>game_id</th>\n",
       "      <th>team</th>\n",
       "      <th></th>\n",
       "    </tr>\n",
       "  </thead>\n",
       "  <tbody>\n",
       "    <tr>\n",
       "      <th rowspan=\"2\" valign=\"top\">401573353</th>\n",
       "      <th>Eastern Washington Eagles</th>\n",
       "      <td>10</td>\n",
       "    </tr>\n",
       "    <tr>\n",
       "      <th>Montana Grizzlies</th>\n",
       "      <td>10</td>\n",
       "    </tr>\n",
       "    <tr>\n",
       "      <th rowspan=\"2\" valign=\"top\">401573354</th>\n",
       "      <th>Idaho Vandals</th>\n",
       "      <td>11</td>\n",
       "    </tr>\n",
       "    <tr>\n",
       "      <th>Montana State Bobcats</th>\n",
       "      <td>10</td>\n",
       "    </tr>\n",
       "    <tr>\n",
       "      <th>401573355</th>\n",
       "      <th>Idaho State Bengals</th>\n",
       "      <td>10</td>\n",
       "    </tr>\n",
       "    <tr>\n",
       "      <th>...</th>\n",
       "      <th>...</th>\n",
       "      <td>...</td>\n",
       "    </tr>\n",
       "    <tr>\n",
       "      <th>401648806</th>\n",
       "      <th>Tarleton State Texans</th>\n",
       "      <td>12</td>\n",
       "    </tr>\n",
       "    <tr>\n",
       "      <th rowspan=\"2\" valign=\"top\">401648807</th>\n",
       "      <th>Bowling Green Falcons</th>\n",
       "      <td>9</td>\n",
       "    </tr>\n",
       "    <tr>\n",
       "      <th>Purdue Fort Wayne Mastodons</th>\n",
       "      <td>10</td>\n",
       "    </tr>\n",
       "    <tr>\n",
       "      <th rowspan=\"2\" valign=\"top\">401648808</th>\n",
       "      <th>Alabama A&amp;M Bulldogs</th>\n",
       "      <td>12</td>\n",
       "    </tr>\n",
       "    <tr>\n",
       "      <th>Austin Peay Governors</th>\n",
       "      <td>9</td>\n",
       "    </tr>\n",
       "  </tbody>\n",
       "</table>\n",
       "<p>12296 rows × 1 columns</p>\n",
       "</div>"
      ],
      "text/plain": [
       "                                       player\n",
       "game_id   team                               \n",
       "401573353 Eastern Washington Eagles        10\n",
       "          Montana Grizzlies                10\n",
       "401573354 Idaho Vandals                    11\n",
       "          Montana State Bobcats            10\n",
       "401573355 Idaho State Bengals              10\n",
       "...                                       ...\n",
       "401648806 Tarleton State Texans            12\n",
       "401648807 Bowling Green Falcons             9\n",
       "          Purdue Fort Wayne Mastodons      10\n",
       "401648808 Alabama A&M Bulldogs             12\n",
       "          Austin Peay Governors             9\n",
       "\n",
       "[12296 rows x 1 columns]"
      ]
     },
     "execution_count": 201,
     "metadata": {},
     "output_type": "execute_result"
    }
   ],
   "source": [
    "#TODO need to find if prev game had all their starters. \n",
    "# Join in one column to final dataset. Either \n",
    "# the num starters played or arr of starters\n",
    "\n",
    "# Need to find array of starters and shift them forward\n",
    "# GROUP BY GAME ID FIND TOP 5 NUM_STARTS\n",
    "boxscores_with_rolling_num_starts.groupby(['game_id','team'],group_keys=False) \\\n",
    "                                 .aggregate({'player':'count'})\n",
    "                                "
   ]
  },
  {
   "cell_type": "code",
   "execution_count": 202,
   "metadata": {},
   "outputs": [],
   "source": [
    "combined_boxscores.to_csv('processed_data/combined_boxscores.csv',index=False)"
   ]
  },
  {
   "cell_type": "markdown",
   "metadata": {},
   "source": [
    "### Add Starters"
   ]
  },
  {
   "cell_type": "code",
   "execution_count": null,
   "metadata": {},
   "outputs": [],
   "source": []
  }
 ],
 "metadata": {
  "kernelspec": {
   "display_name": "Python 3.9.6 ('venv': venv)",
   "language": "python",
   "name": "python3"
  },
  "language_info": {
   "codemirror_mode": {
    "name": "ipython",
    "version": 3
   },
   "file_extension": ".py",
   "mimetype": "text/x-python",
   "name": "python",
   "nbconvert_exporter": "python",
   "pygments_lexer": "ipython3",
   "version": "3.9.6"
  },
  "orig_nbformat": 4,
  "vscode": {
   "interpreter": {
    "hash": "d516ab9d3d8b3e65f744c6289da10f593194ff71ad0cf30a60cccd4ea06d47a8"
   }
  }
 },
 "nbformat": 4,
 "nbformat_minor": 2
}
