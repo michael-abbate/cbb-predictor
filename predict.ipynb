{
 "cells": [
  {
   "cell_type": "code",
   "execution_count": 2,
   "metadata": {},
   "outputs": [],
   "source": [
    "import pandas as pd\n",
    "from sklearn.model_selection import TimeSeriesSplit\n",
    "from sklearn.feature_selection import SequentialFeatureSelector\n",
    "from sklearn.linear_model import RidgeClassifier\n",
    "from sklearn.metrics import r2_score, mean_absolute_error\n",
    "from sklearn.preprocessing import MinMaxScaler\n",
    "\n",
    "import seaborn as sns\n",
    "import matplotlib.pyplot as plt\n",
    "\n"
   ]
  },
  {
   "cell_type": "code",
   "execution_count": 49,
   "metadata": {},
   "outputs": [],
   "source": [
    "# df = pd.read_csv('processed_data/data.csv')\n",
    "df = pd.read_csv('processed_data/combined_boxscores.csv')\n",
    "df = df.sort_values('game_day').reset_index(drop=True)\n",
    "exclude_cols = ['pts_home','pts_away','game_id', 'team','team_home','home_team','team_away','away_team', 'game_day','other_team_score','score_other','score','target']\n",
    "stat_cols = ['fgm', 'fga', '2pm', '2pa', '3pm', '3pa', 'ftm', 'fta',\n",
    "       'oreb', 'dreb', 'reb', 'ast', 'stl', 'blk', 'to', 'pf']\n",
    "cumul_cols = [x for x in df.columns if 'cumul' in x]\n",
    "test_removal = ['home_rank','away_rank','is_home']\n",
    "df = df.dropna()\n"
   ]
  },
  {
   "cell_type": "code",
   "execution_count": 40,
   "metadata": {},
   "outputs": [
    {
     "data": {
      "text/html": [
       "<div>\n",
       "<style scoped>\n",
       "    .dataframe tbody tr th:only-of-type {\n",
       "        vertical-align: middle;\n",
       "    }\n",
       "\n",
       "    .dataframe tbody tr th {\n",
       "        vertical-align: top;\n",
       "    }\n",
       "\n",
       "    .dataframe thead th {\n",
       "        text-align: right;\n",
       "    }\n",
       "</style>\n",
       "<table border=\"1\" class=\"dataframe\">\n",
       "  <thead>\n",
       "    <tr style=\"text-align: right;\">\n",
       "      <th></th>\n",
       "      <th>game_id</th>\n",
       "      <th>team_home</th>\n",
       "      <th>fgm_home</th>\n",
       "      <th>fga_home</th>\n",
       "      <th>2pm_home</th>\n",
       "      <th>2pa_home</th>\n",
       "      <th>3pm_home</th>\n",
       "      <th>3pa_home</th>\n",
       "      <th>ftm_home</th>\n",
       "      <th>fta_home</th>\n",
       "      <th>...</th>\n",
       "      <th>ftm_away</th>\n",
       "      <th>fta_away</th>\n",
       "      <th>oreb_away</th>\n",
       "      <th>dreb_away</th>\n",
       "      <th>reb_away</th>\n",
       "      <th>ast_away</th>\n",
       "      <th>stl_away</th>\n",
       "      <th>blk_away</th>\n",
       "      <th>to_away</th>\n",
       "      <th>pf_away</th>\n",
       "    </tr>\n",
       "  </thead>\n",
       "  <tbody>\n",
       "    <tr>\n",
       "      <th>0</th>\n",
       "      <td>401575451</td>\n",
       "      <td>Kansas Jayhawks</td>\n",
       "      <td>0.709091</td>\n",
       "      <td>0.54902</td>\n",
       "      <td>0.530612</td>\n",
       "      <td>0.44</td>\n",
       "      <td>0.590909</td>\n",
       "      <td>0.442308</td>\n",
       "      <td>0.2</td>\n",
       "      <td>0.196078</td>\n",
       "      <td>...</td>\n",
       "      <td>0.25</td>\n",
       "      <td>0.352941</td>\n",
       "      <td>0.272727</td>\n",
       "      <td>0.25</td>\n",
       "      <td>0.2875</td>\n",
       "      <td>0.189189</td>\n",
       "      <td>0.304348</td>\n",
       "      <td>0.055556</td>\n",
       "      <td>0.257143</td>\n",
       "      <td>0.325</td>\n",
       "    </tr>\n",
       "  </tbody>\n",
       "</table>\n",
       "<p>1 rows × 48 columns</p>\n",
       "</div>"
      ],
      "text/plain": [
       "     game_id        team_home  fgm_home  fga_home  2pm_home  2pa_home  \\\n",
       "0  401575451  Kansas Jayhawks  0.709091   0.54902  0.530612      0.44   \n",
       "\n",
       "   3pm_home  3pa_home  ftm_home  fta_home  ...  ftm_away  fta_away  oreb_away  \\\n",
       "0  0.590909  0.442308       0.2  0.196078  ...      0.25  0.352941   0.272727   \n",
       "\n",
       "   dreb_away  reb_away  ast_away  stl_away  blk_away   to_away  pf_away  \n",
       "0       0.25    0.2875  0.189189  0.304348  0.055556  0.257143    0.325  \n",
       "\n",
       "[1 rows x 48 columns]"
      ]
     },
     "execution_count": 40,
     "metadata": {},
     "output_type": "execute_result"
    }
   ],
   "source": [
    "df[df['game_id']==401575451]"
   ]
  },
  {
   "cell_type": "code",
   "execution_count": 41,
   "metadata": {},
   "outputs": [],
   "source": [
    "# df = df[df['is_home']==1]"
   ]
  },
  {
   "cell_type": "code",
   "execution_count": 42,
   "metadata": {},
   "outputs": [
    {
     "data": {
      "text/plain": [
       "Index(['game_id', 'team_home', 'fgm_home', 'fga_home', '2pm_home', '2pa_home',\n",
       "       '3pm_home', '3pa_home', 'ftm_home', 'fta_home', 'oreb_home',\n",
       "       'dreb_home', 'reb_home', 'ast_home', 'stl_home', 'blk_home', 'to_home',\n",
       "       'pf_home', 'pts_home', 'home_rank', 'away_team', 'away_rank',\n",
       "       'is_conference', 'is_neutral', 'game_day', 'homeTeam_wins',\n",
       "       'homeTeam_losses', 'awayTeam_wins', 'awayTeam_losses', 'home_team',\n",
       "       'team_away', 'pts_away', 'fgm_away', 'fga_away', '2pm_away', '2pa_away',\n",
       "       '3pm_away', '3pa_away', 'ftm_away', 'fta_away', 'oreb_away',\n",
       "       'dreb_away', 'reb_away', 'ast_away', 'stl_away', 'blk_away', 'to_away',\n",
       "       'pf_away'],\n",
       "      dtype='object')"
      ]
     },
     "execution_count": 42,
     "metadata": {},
     "output_type": "execute_result"
    }
   ],
   "source": [
    "df.columns"
   ]
  },
  {
   "cell_type": "code",
   "execution_count": 9,
   "metadata": {},
   "outputs": [
    {
     "data": {
      "text/plain": [
       "(4245, 63)"
      ]
     },
     "execution_count": 9,
     "metadata": {},
     "output_type": "execute_result"
    }
   ],
   "source": [
    "df.shape"
   ]
  },
  {
   "cell_type": "code",
   "execution_count": 45,
   "metadata": {},
   "outputs": [
    {
     "data": {
      "text/plain": [
       "count    4607.000000\n",
       "mean       75.319080\n",
       "std        12.089234\n",
       "min         0.000000\n",
       "25%        67.000000\n",
       "50%        75.000000\n",
       "75%        83.000000\n",
       "max       134.000000\n",
       "Name: pts_home, dtype: float64"
      ]
     },
     "execution_count": 45,
     "metadata": {},
     "output_type": "execute_result"
    }
   ],
   "source": [
    "df['pts_home'].describe()"
   ]
  },
  {
   "cell_type": "code",
   "execution_count": 47,
   "metadata": {},
   "outputs": [
    {
     "data": {
      "text/plain": [
       "<AxesSubplot: xlabel='pts_home', ylabel='Count'>"
      ]
     },
     "execution_count": 47,
     "metadata": {},
     "output_type": "execute_result"
    },
    {
     "data": {
      "image/png": "[encoded data removed]",
      "text/plain": [
       "<Figure size 640x480 with 1 Axes>"
      ]
     },
     "metadata": {},
     "output_type": "display_data"
    }
   ],
   "source": [
    "sns.histplot(df['pts_home'])"
   ]
  },
  {
   "cell_type": "code",
   "execution_count": 50,
   "metadata": {},
   "outputs": [],
   "source": [
    "df = df[(df['pts_home']>=60) & (df['pts_home']<=90)] #& (df['prev_scores_cum_avg']>=60) & (df['prev_scores_cum_avg']<=90)]"
   ]
  },
  {
   "cell_type": "code",
   "execution_count": 52,
   "metadata": {},
   "outputs": [
    {
     "data": {
      "text/plain": [
       "<AxesSubplot: xlabel='pts_home', ylabel='Count'>"
      ]
     },
     "execution_count": 52,
     "metadata": {},
     "output_type": "execute_result"
    },
    {
     "data": {
      "image/png": "[encoded data removed]",
      "text/plain": [
       "<Figure size 640x480 with 1 Axes>"
      ]
     },
     "metadata": {},
     "output_type": "display_data"
    }
   ],
   "source": [
    "sns.histplot(df['pts_home'])"
   ]
  },
  {
   "cell_type": "code",
   "execution_count": 54,
   "metadata": {},
   "outputs": [
    {
     "data": {
      "text/plain": [
       "<AxesSubplot: xlabel='fgm_home', ylabel='pts_home'>"
      ]
     },
     "execution_count": 54,
     "metadata": {},
     "output_type": "execute_result"
    },
    {
     "data": {
      "image/png": "[encoded data removed]",
      "text/plain": [
       "<Figure size 640x480 with 1 Axes>"
      ]
     },
     "metadata": {},
     "output_type": "display_data"
    }
   ],
   "source": [
    "sns.lineplot(x=df['fgm_home'],y=df['pts_home'])"
   ]
  },
  {
   "cell_type": "code",
   "execution_count": 55,
   "metadata": {},
   "outputs": [],
   "source": [
    "# plt.figure(figsize=(12,16))\n",
    "# plt.subplots_adjust(hspace=0.6,wspace=0.6)\n",
    "# # for col in stat_cols:\n",
    "# #     sns.lineplot(x=df['fgm'],y=df['score'])\n",
    "# for i, col in enumerate(feature_cols):\n",
    "#     plt.subplot(5, 5, i+1)\n",
    "#     sns.lineplot(x=df[col],y=df['score'])\n",
    "#     plt.title(col)"
   ]
  },
  {
   "cell_type": "code",
   "execution_count": 56,
   "metadata": {},
   "outputs": [
    {
     "ename": "KeyError",
     "evalue": "\"None of [Index(['fgm', 'fga', '2pm', '2pa', '3pm', '3pa', 'ftm', 'fta', 'oreb', 'dreb',\\n       'reb', 'ast', 'stl', 'blk', 'to', 'pf'],\\n      dtype='object')] are in the [columns]\"",
     "output_type": "error",
     "traceback": [
      "\u001b[0;31m---------------------------------------------------------------------------\u001b[0m",
      "\u001b[0;31mKeyError\u001b[0m                                  Traceback (most recent call last)",
      "Cell \u001b[0;32mIn[56], line 1\u001b[0m\n\u001b[0;32m----> 1\u001b[0m df[stat_cols]\u001b[39m.\u001b[39mdescribe()\n",
      "File \u001b[0;32m/opt/homebrew/lib/python3.10/site-packages/pandas/core/frame.py:3811\u001b[0m, in \u001b[0;36mDataFrame.__getitem__\u001b[0;34m(self, key)\u001b[0m\n\u001b[1;32m   3809\u001b[0m     \u001b[39mif\u001b[39;00m is_iterator(key):\n\u001b[1;32m   3810\u001b[0m         key \u001b[39m=\u001b[39m \u001b[39mlist\u001b[39m(key)\n\u001b[0;32m-> 3811\u001b[0m     indexer \u001b[39m=\u001b[39m \u001b[39mself\u001b[39;49m\u001b[39m.\u001b[39;49mcolumns\u001b[39m.\u001b[39;49m_get_indexer_strict(key, \u001b[39m\"\u001b[39;49m\u001b[39mcolumns\u001b[39;49m\u001b[39m\"\u001b[39;49m)[\u001b[39m1\u001b[39m]\n\u001b[1;32m   3813\u001b[0m \u001b[39m# take() does not accept boolean indexers\u001b[39;00m\n\u001b[1;32m   3814\u001b[0m \u001b[39mif\u001b[39;00m \u001b[39mgetattr\u001b[39m(indexer, \u001b[39m\"\u001b[39m\u001b[39mdtype\u001b[39m\u001b[39m\"\u001b[39m, \u001b[39mNone\u001b[39;00m) \u001b[39m==\u001b[39m \u001b[39mbool\u001b[39m:\n",
      "File \u001b[0;32m/opt/homebrew/lib/python3.10/site-packages/pandas/core/indexes/base.py:6113\u001b[0m, in \u001b[0;36mIndex._get_indexer_strict\u001b[0;34m(self, key, axis_name)\u001b[0m\n\u001b[1;32m   6110\u001b[0m \u001b[39melse\u001b[39;00m:\n\u001b[1;32m   6111\u001b[0m     keyarr, indexer, new_indexer \u001b[39m=\u001b[39m \u001b[39mself\u001b[39m\u001b[39m.\u001b[39m_reindex_non_unique(keyarr)\n\u001b[0;32m-> 6113\u001b[0m \u001b[39mself\u001b[39;49m\u001b[39m.\u001b[39;49m_raise_if_missing(keyarr, indexer, axis_name)\n\u001b[1;32m   6115\u001b[0m keyarr \u001b[39m=\u001b[39m \u001b[39mself\u001b[39m\u001b[39m.\u001b[39mtake(indexer)\n\u001b[1;32m   6116\u001b[0m \u001b[39mif\u001b[39;00m \u001b[39misinstance\u001b[39m(key, Index):\n\u001b[1;32m   6117\u001b[0m     \u001b[39m# GH 42790 - Preserve name from an Index\u001b[39;00m\n",
      "File \u001b[0;32m/opt/homebrew/lib/python3.10/site-packages/pandas/core/indexes/base.py:6173\u001b[0m, in \u001b[0;36mIndex._raise_if_missing\u001b[0;34m(self, key, indexer, axis_name)\u001b[0m\n\u001b[1;32m   6171\u001b[0m     \u001b[39mif\u001b[39;00m use_interval_msg:\n\u001b[1;32m   6172\u001b[0m         key \u001b[39m=\u001b[39m \u001b[39mlist\u001b[39m(key)\n\u001b[0;32m-> 6173\u001b[0m     \u001b[39mraise\u001b[39;00m \u001b[39mKeyError\u001b[39;00m(\u001b[39mf\u001b[39m\u001b[39m\"\u001b[39m\u001b[39mNone of [\u001b[39m\u001b[39m{\u001b[39;00mkey\u001b[39m}\u001b[39;00m\u001b[39m] are in the [\u001b[39m\u001b[39m{\u001b[39;00maxis_name\u001b[39m}\u001b[39;00m\u001b[39m]\u001b[39m\u001b[39m\"\u001b[39m)\n\u001b[1;32m   6175\u001b[0m not_found \u001b[39m=\u001b[39m \u001b[39mlist\u001b[39m(ensure_index(key)[missing_mask\u001b[39m.\u001b[39mnonzero()[\u001b[39m0\u001b[39m]]\u001b[39m.\u001b[39munique())\n\u001b[1;32m   6176\u001b[0m \u001b[39mraise\u001b[39;00m \u001b[39mKeyError\u001b[39;00m(\u001b[39mf\u001b[39m\u001b[39m\"\u001b[39m\u001b[39m{\u001b[39;00mnot_found\u001b[39m}\u001b[39;00m\u001b[39m not in index\u001b[39m\u001b[39m\"\u001b[39m)\n",
      "\u001b[0;31mKeyError\u001b[0m: \"None of [Index(['fgm', 'fga', '2pm', '2pa', '3pm', '3pa', 'ftm', 'fta', 'oreb', 'dreb',\\n       'reb', 'ast', 'stl', 'blk', 'to', 'pf'],\\n      dtype='object')] are in the [columns]\""
     ]
    }
   ],
   "source": [
    "df[stat_cols].describe()"
   ]
  },
  {
   "cell_type": "code",
   "execution_count": 295,
   "metadata": {},
   "outputs": [],
   "source": [
    "home_rr = RidgeClassifier(alpha=1)\n",
    "away_rr = RidgeClassifier(alpha=1)\n",
    "split=TimeSeriesSplit(n_splits=3)\n",
    "\n",
    "home_sfs= SequentialFeatureSelector(rr, n_features_to_select=30, direction='forward', cv=split)\n",
    "away_sfs= SequentialFeatureSelector(rr, n_features_to_select=20, direction='forward', cv=split)"
   ]
  },
  {
   "cell_type": "code",
   "execution_count": 255,
   "metadata": {},
   "outputs": [],
   "source": [
    "feature_cols = df.columns[~df.columns.isin(exclude_cols+test_removal+cumul_cols)]\n",
    "home_target_col = 'pts_home'\n",
    "away_target_col = 'pts_away'"
   ]
  },
  {
   "cell_type": "code",
   "execution_count": 63,
   "metadata": {},
   "outputs": [
    {
     "data": {
      "text/plain": [
       "(Index(['fgm_home', 'fga_home', '2pm_home', '2pa_home', '3pm_home', '3pa_home',\n",
       "        'ftm_home', 'fta_home', 'oreb_home', 'dreb_home', 'reb_home',\n",
       "        'ast_home', 'stl_home', 'blk_home', 'to_home', 'pf_home',\n",
       "        'is_conference', 'is_neutral', 'homeTeam_wins', 'homeTeam_losses',\n",
       "        'awayTeam_wins', 'awayTeam_losses', 'fgm_away', 'fga_away', '2pm_away',\n",
       "        '2pa_away', '3pm_away', '3pa_away', 'ftm_away', 'fta_away', 'oreb_away',\n",
       "        'dreb_away', 'reb_away', 'ast_away', 'stl_away', 'blk_away', 'to_away',\n",
       "        'pf_away'],\n",
       "       dtype='object'),\n",
       " 38)"
      ]
     },
     "execution_count": 63,
     "metadata": {},
     "output_type": "execute_result"
    }
   ],
   "source": [
    "feature_cols,len(feature_cols)"
   ]
  },
  {
   "cell_type": "code",
   "execution_count": 288,
   "metadata": {},
   "outputs": [],
   "source": [
    "def backtest(data, target_col, model, predictors, start=2, step=1):\n",
    "    all_predictions=[]\n",
    "    unique_days=sorted(df['game_day'].unique())\n",
    "\n",
    "    for i in range(start, len(unique_days), step):\n",
    "        day = unique_days[i]\n",
    "        train = df[df['game_day']<day]\n",
    "        test = df[df['game_day']==day]\n",
    "\n",
    "        model.fit(train[predictors], train[target_col])\n",
    "        \n",
    "        preds = model.predict(test[predictors]) \n",
    "        preds = pd.Series(preds, index=test.index)\n",
    "\n",
    "        combined = pd.concat([test[target_col], preds], axis=1)\n",
    "        combined.columns = ['actual','prediction']\n",
    "\n",
    "        all_predictions.append(combined)\n",
    "    return model, pd.concat(all_predictions)\n"
   ]
  },
  {
   "cell_type": "code",
   "execution_count": 297,
   "metadata": {},
   "outputs": [],
   "source": [
    "away_sfs.fit(df[feature_cols],df[away_target_col])\n",
    "away_predictors = list(feature_cols[away_sfs.get_support()])\n",
    "away_model, away_predictions = backtest(df, away_target_col, away_rr, away_predictors)"
   ]
  },
  {
   "cell_type": "code",
   "execution_count": 261,
   "metadata": {},
   "outputs": [],
   "source": [
    "home_sfs.fit(df[feature_cols],df[home_target_col])\n",
    "home_predictors = list(feature_cols[home_sfs.get_support()])\n",
    "home_model, home_predictions = backtest(df, home_target_col, home_rr, home_predictors)"
   ]
  },
  {
   "cell_type": "code",
   "execution_count": 289,
   "metadata": {},
   "outputs": [],
   "source": []
  },
  {
   "cell_type": "code",
   "execution_count": 298,
   "metadata": {},
   "outputs": [
    {
     "name": "stdout",
     "output_type": "stream",
     "text": [
      "HOME EVALUATIONS:\n",
      "r2: 0.6267320211503078\n",
      "MAE: 3.850041197473222\n",
      "\n",
      "AWAY EVALUATIONS:\n",
      "r2: 0.5783305582547231\n",
      "MAE: 5.540510848667949\n"
     ]
    }
   ],
   "source": [
    "print(\"HOME EVALUATIONS:\")\n",
    "print(\"r2:\", r2_score(home_predictions['actual'],home_predictions['prediction']))\n",
    "print(\"MAE:\", mean_absolute_error(home_predictions['actual'],home_predictions['prediction']))\n",
    "print()\n",
    "print(\"AWAY EVALUATIONS:\")\n",
    "print(\"r2:\", r2_score(away_predictions['actual'],away_predictions['prediction']))\n",
    "print(\"MAE:\", mean_absolute_error(away_predictions['actual'],away_predictions['prediction']))"
   ]
  },
  {
   "cell_type": "code",
   "execution_count": 291,
   "metadata": {},
   "outputs": [],
   "source": [
    "def findCumulAvgs(team):\n",
    "    rolling = team.expanding().mean()\n",
    "    return rolling"
   ]
  },
  {
   "cell_type": "code",
   "execution_count": 195,
   "metadata": {},
   "outputs": [],
   "source": [
    "game_info_df = pd.read_csv('raw_data/game_info_df.csv')\n",
    "game_info_df = game_info_df.dropna(subset=['home_record','away_record'])\n"
   ]
  },
  {
   "cell_type": "code",
   "execution_count": 189,
   "metadata": {},
   "outputs": [
    {
     "data": {
      "text/plain": [
       "Index(['game_id', 'home_team', 'home_id', 'home_rank', 'home_record',\n",
       "       'home_score', 'away_team', 'away_id', 'away_rank', 'away_record',\n",
       "       'away_score', 'home_win', 'num_ots', 'is_conference', 'is_neutral',\n",
       "       'is_postseason', 'tournament', 'game_day', 'game_time', 'game_loc',\n",
       "       'arena', 'arena_capacity', 'attendance', 'tv_network', 'referee_1',\n",
       "       'referee_2', 'referee_3'],\n",
       "      dtype='object')"
      ]
     },
     "execution_count": 189,
     "metadata": {},
     "output_type": "execute_result"
    }
   ],
   "source": [
    "game_info_df.columns"
   ]
  },
  {
   "cell_type": "code",
   "execution_count": 196,
   "metadata": {},
   "outputs": [
    {
     "name": "stderr",
     "output_type": "stream",
     "text": [
      "/var/folders/z_/b2p80qvn353dbq0c1vfq0q600000gq/T/ipykernel_6535/4292779899.py:7: SettingWithCopyWarning: \n",
      "A value is trying to be set on a copy of a slice from a DataFrame.\n",
      "Try using .loc[row_indexer,col_indexer] = value instead\n",
      "\n",
      "See the caveats in the documentation: https://pandas.pydata.org/pandas-docs/stable/user_guide/indexing.html#returning-a-view-versus-a-copy\n",
      "  boxscores_filtered[stat_cols] = scaler.fit_transform(boxscores_filtered[stat_cols])\n"
     ]
    }
   ],
   "source": [
    "exclude_boxscore_cols = ['player', 'player_id', 'position', 'starter', 'min']\n",
    "boxscore_df = pd.read_csv('raw_data/boxscore_df.csv')\n",
    "\n",
    "# Join into to get game info\n",
    "boxscore_df = pd.merge(boxscore_df, game_info_df[['game_id','game_day','home_record','away_record']], on='game_id')\n",
    "boxscores_filtered = boxscore_df[(boxscore_df.player_id == 'TOTAL')]\n",
    "scaler = MinMaxScaler()\n",
    "boxscores_filtered[stat_cols] = scaler.fit_transform(boxscores_filtered[stat_cols])\n",
    "boxscores_filtered = boxscores_filtered.drop(exclude_boxscore_cols,axis=1).reset_index(drop=True)\n",
    "boxscores_cumul_avgs = boxscores_filtered.groupby('team',group_keys=False)[stat_cols].apply(findCumulAvgs)\n",
    "boxscores_final = pd.concat([boxscores_cumul_avgs, boxscores_filtered[['game_id','team','game_day','home_record','away_record']]], axis=1)\n",
    "\n",
    "records_cols = ['home_record','away_record']\n",
    "# Convert Record cols to Wins and Losses cols\n",
    "for col in records_cols:\n",
    "    team_type = col.split('_')[0]\n",
    "    boxscores_final[col] = boxscores_final[col].astype(str)\n",
    "    wins = boxscores_final.loc[:,col].apply(lambda x: x.split('-')[0])\n",
    "    losses = boxscores_final.loc[:,col].apply(lambda x: x.split('-')[1])    \n",
    "    boxscores_final[team_type+'Team_wins'] = wins\n",
    "    boxscores_final[team_type+'Team_losses'] = losses\n",
    "    boxscores_final = boxscores_final.drop(col,axis=1)\n",
    "# lookup = pd.merge(boxscores_final, )"
   ]
  },
  {
   "cell_type": "markdown",
   "metadata": {},
   "source": [
    "# PREDICT"
   ]
  },
  {
   "cell_type": "code",
   "execution_count": 254,
   "metadata": {},
   "outputs": [],
   "source": [
    "game_date_str = '2024-02-10'\n",
    "game_date = pd.to_datetime(game_date_str)\n",
    "boxscores_final['game_day'] = pd.to_datetime(boxscores_final['game_day'])\n",
    "home_team_name ='Duke Blue Devils'\n",
    "away_team_name = 'Boston College Eagles'\n",
    "home_most_recent_bs = pd.DataFrame(boxscores_final[(boxscores_final['team']==home_team_name) & (boxscores_final['game_day']<game_date)].iloc[-1,:]).transpose()\n",
    "away_most_recent_bs = pd.DataFrame(boxscores_final[(boxscores_final['team']==away_team_name) & (boxscores_final['game_day']<game_date)].iloc[-1,:]).transpose()"
   ]
  },
  {
   "cell_type": "code",
   "execution_count": 233,
   "metadata": {},
   "outputs": [],
   "source": [
    "home_team_cols_needed = {}\n",
    "for f in feature_cols:\n",
    "    if '_home' in f:\n",
    "        home_team_cols_needed[f.replace('_home','')]=f\n",
    "home_most_recent_bs=home_most_recent_bs.rename(columns=home_team_cols_needed)\n",
    "home_most_recent_bs=home_most_recent_bs.drop(['awayTeam_wins','awayTeam_losses'],axis=1)\n",
    "\n",
    "away_team_cols_needed = {}\n",
    "for f in feature_cols:\n",
    "    if '_away' in f:\n",
    "        away_team_cols_needed[f.replace('_away','')]=f\n",
    "away_most_recent_bs=away_most_recent_bs.rename(columns=away_team_cols_needed)\n",
    "away_most_recent_bs=away_most_recent_bs.drop(['homeTeam_wins','homeTeam_losses'],axis=1)\n",
    "\n",
    "home_most_recent_bs['join_helper']=1\n",
    "away_most_recent_bs['join_helper']=1\n",
    "\n",
    "validate_df = pd.merge(home_most_recent_bs, away_most_recent_bs,on='TEST')\n",
    "validate_df['is_neutral']=0\n",
    "validate_df['is_conference']=1"
   ]
  },
  {
   "cell_type": "code",
   "execution_count": 246,
   "metadata": {},
   "outputs": [
    {
     "data": {
      "text/html": [
       "<div>\n",
       "<style scoped>\n",
       "    .dataframe tbody tr th:only-of-type {\n",
       "        vertical-align: middle;\n",
       "    }\n",
       "\n",
       "    .dataframe tbody tr th {\n",
       "        vertical-align: top;\n",
       "    }\n",
       "\n",
       "    .dataframe thead th {\n",
       "        text-align: right;\n",
       "    }\n",
       "</style>\n",
       "<table border=\"1\" class=\"dataframe\">\n",
       "  <thead>\n",
       "    <tr style=\"text-align: right;\">\n",
       "      <th></th>\n",
       "      <th>fgm_home</th>\n",
       "      <th>fga_home</th>\n",
       "      <th>2pm_home</th>\n",
       "      <th>2pa_home</th>\n",
       "      <th>3pm_home</th>\n",
       "      <th>3pa_home</th>\n",
       "      <th>ftm_home</th>\n",
       "      <th>fta_home</th>\n",
       "      <th>oreb_home</th>\n",
       "      <th>dreb_home</th>\n",
       "      <th>...</th>\n",
       "      <th>blk_away</th>\n",
       "      <th>to_away</th>\n",
       "      <th>pf_away</th>\n",
       "      <th>game_id_y</th>\n",
       "      <th>team_y</th>\n",
       "      <th>game_day_y</th>\n",
       "      <th>awayTeam_wins</th>\n",
       "      <th>awayTeam_losses</th>\n",
       "      <th>is_neutral</th>\n",
       "      <th>is_conference</th>\n",
       "    </tr>\n",
       "  </thead>\n",
       "  <tbody>\n",
       "    <tr>\n",
       "      <th>0</th>\n",
       "      <td>0.549825</td>\n",
       "      <td>0.618845</td>\n",
       "      <td>0.514773</td>\n",
       "      <td>0.52904</td>\n",
       "      <td>0.421053</td>\n",
       "      <td>0.435065</td>\n",
       "      <td>0.3875</td>\n",
       "      <td>0.417112</td>\n",
       "      <td>0.296143</td>\n",
       "      <td>0.538033</td>\n",
       "      <td>...</td>\n",
       "      <td>0.230114</td>\n",
       "      <td>0.35303</td>\n",
       "      <td>0.389773</td>\n",
       "      <td>401604170</td>\n",
       "      <td>Boston College Eagles</td>\n",
       "      <td>2024-02-06</td>\n",
       "      <td>13</td>\n",
       "      <td>9</td>\n",
       "      <td>0</td>\n",
       "      <td>1</td>\n",
       "    </tr>\n",
       "  </tbody>\n",
       "</table>\n",
       "<p>1 rows × 45 columns</p>\n",
       "</div>"
      ],
      "text/plain": [
       "   fgm_home  fga_home  2pm_home 2pa_home  3pm_home  3pa_home ftm_home  \\\n",
       "0  0.549825  0.618845  0.514773  0.52904  0.421053  0.435065   0.3875   \n",
       "\n",
       "   fta_home oreb_home dreb_home  ...  blk_away  to_away   pf_away  game_id_y  \\\n",
       "0  0.417112  0.296143  0.538033  ...  0.230114  0.35303  0.389773  401604170   \n",
       "\n",
       "                  team_y game_day_y awayTeam_wins awayTeam_losses is_neutral  \\\n",
       "0  Boston College Eagles 2024-02-06            13               9          0   \n",
       "\n",
       "  is_conference  \n",
       "0             1  \n",
       "\n",
       "[1 rows x 45 columns]"
      ]
     },
     "execution_count": 246,
     "metadata": {},
     "output_type": "execute_result"
    }
   ],
   "source": [
    "validate_df"
   ]
  },
  {
   "cell_type": "code",
   "execution_count": 300,
   "metadata": {},
   "outputs": [],
   "source": [
    "home_pred = home_model.predict(validate_df[home_predictors]) \n",
    "away_pred = away_model.predict(validate_df[away_predictors])\n"
   ]
  },
  {
   "cell_type": "code",
   "execution_count": 301,
   "metadata": {},
   "outputs": [
    {
     "name": "stdout",
     "output_type": "stream",
     "text": [
      "HOME: 82\n",
      "AWAY: 71\n"
     ]
    }
   ],
   "source": [
    "print('HOME:',home_pred[0])\n",
    "print('AWAY:',away_pred[0])"
   ]
  },
  {
   "cell_type": "code",
   "execution_count": 280,
   "metadata": {},
   "outputs": [
    {
     "data": {
      "text/plain": [
       "Index(['fgm_home', 'fga_home', '2pm_home', '2pa_home', '3pm_home', '3pa_home',\n",
       "       'ftm_home', 'fta_home', 'oreb_home', 'dreb_home', 'reb_home',\n",
       "       'ast_home', 'stl_home', 'blk_home', 'to_home', 'pf_home',\n",
       "       'is_conference', 'is_neutral', 'homeTeam_wins', 'homeTeam_losses',\n",
       "       'awayTeam_wins', 'awayTeam_losses', 'fgm_away', 'fga_away', '2pm_away',\n",
       "       '2pa_away', '3pm_away', '3pa_away', 'ftm_away', 'fta_away', 'oreb_away',\n",
       "       'dreb_away', 'reb_away', 'ast_away', 'stl_away', 'blk_away', 'to_away',\n",
       "       'pf_away'],\n",
       "      dtype='object')"
      ]
     },
     "execution_count": 280,
     "metadata": {},
     "output_type": "execute_result"
    }
   ],
   "source": [
    "feature_cols"
   ]
  },
  {
   "cell_type": "code",
   "execution_count": 302,
   "metadata": {},
   "outputs": [],
   "source": [
    "#TODO: increase the start time in the backtest loop?"
   ]
  },
  {
   "cell_type": "code",
   "execution_count": null,
   "metadata": {},
   "outputs": [],
   "source": []
  }
 ],
 "metadata": {
  "kernelspec": {
   "display_name": "venv",
   "language": "python",
   "name": "venv"
  },
  "language_info": {
   "codemirror_mode": {
    "name": "ipython",
    "version": 3
   },
   "file_extension": ".py",
   "mimetype": "text/x-python",
   "name": "python",
   "nbconvert_exporter": "python",
   "pygments_lexer": "ipython3",
   "version": "3.10.9"
  },
  "orig_nbformat": 4,
  "vscode": {
   "interpreter": {
    "hash": "b0fa6594d8f4cbf19f97940f81e996739fb7646882a419484c72d19e05852a7e"
   }
  }
 },
 "nbformat": 4,
 "nbformat_minor": 2
}
