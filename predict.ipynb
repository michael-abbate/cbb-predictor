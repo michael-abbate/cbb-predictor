{
 "cells": [
  {
   "cell_type": "code",
   "execution_count": 61,
   "metadata": {},
   "outputs": [],
   "source": [
    "import pandas as pd\n",
    "from sklearn.model_selection import TimeSeriesSplit\n",
    "from sklearn.feature_selection import SequentialFeatureSelector\n",
    "from sklearn.linear_model import RidgeClassifier\n",
    "\n",
    "from sklearn.metrics import r2_score, mean_absolute_error"
   ]
  },
  {
   "cell_type": "code",
   "execution_count": 127,
   "metadata": {},
   "outputs": [],
   "source": [
    "df = pd.read_csv('processed_data/data.csv')\n",
    "df = df.sort_values('game_day').reset_index(drop=True)\n",
    "exclude_cols = ['game_id', 'team', 'game_day', 'score']\n"
   ]
  },
  {
   "cell_type": "code",
   "execution_count": 126,
   "metadata": {},
   "outputs": [
    {
     "data": {
      "text/plain": [
       "Index(['game_id', 'fgm_5_home', 'fga_5_home', '2pm_5_home', '2pa_5_home',\n",
       "       '3pm_5_home', '3pa_5_home', 'ftm_5_home', 'fta_5_home', 'oreb_5_home',\n",
       "       'dreb_5_home', 'reb_5_home', 'ast_5_home', 'stl_5_home', 'blk_5_home',\n",
       "       'to_5_home', 'pf_5_home', 'home_rank', 'away_rank', 'is_conference',\n",
       "       'is_neutral', 'game_day', 'homeTeam_wins', 'homeTeam_losses',\n",
       "       'awayTeam_wins', 'awayTeam_losses', 'fgm_5_away', 'fga_5_away',\n",
       "       '2pm_5_away', '2pa_5_away', '3pm_5_away', '3pa_5_away', 'ftm_5_away',\n",
       "       'fta_5_away', 'oreb_5_away', 'dreb_5_away', 'reb_5_away', 'ast_5_away',\n",
       "       'stl_5_away', 'blk_5_away', 'to_5_away', 'pf_5_away', 'is_home', 'team',\n",
       "       'score'],\n",
       "      dtype='object')"
      ]
     },
     "execution_count": 126,
     "metadata": {},
     "output_type": "execute_result"
    }
   ],
   "source": [
    "df.columns"
   ]
  },
  {
   "cell_type": "code",
   "execution_count": 64,
   "metadata": {},
   "outputs": [
    {
     "data": {
      "text/plain": [
       "(9214, 45)"
      ]
     },
     "execution_count": 64,
     "metadata": {},
     "output_type": "execute_result"
    }
   ],
   "source": [
    "df.shape"
   ]
  },
  {
   "cell_type": "code",
   "execution_count": 138,
   "metadata": {},
   "outputs": [
    {
     "data": {
      "text/html": [
       "<div>\n",
       "<style scoped>\n",
       "    .dataframe tbody tr th:only-of-type {\n",
       "        vertical-align: middle;\n",
       "    }\n",
       "\n",
       "    .dataframe tbody tr th {\n",
       "        vertical-align: top;\n",
       "    }\n",
       "\n",
       "    .dataframe thead th {\n",
       "        text-align: right;\n",
       "    }\n",
       "</style>\n",
       "<table border=\"1\" class=\"dataframe\">\n",
       "  <thead>\n",
       "    <tr style=\"text-align: right;\">\n",
       "      <th></th>\n",
       "      <th>game_id</th>\n",
       "      <th>fgm_5_home</th>\n",
       "      <th>fga_5_home</th>\n",
       "      <th>2pm_5_home</th>\n",
       "      <th>2pa_5_home</th>\n",
       "      <th>3pm_5_home</th>\n",
       "      <th>3pa_5_home</th>\n",
       "      <th>ftm_5_home</th>\n",
       "      <th>fta_5_home</th>\n",
       "      <th>oreb_5_home</th>\n",
       "      <th>...</th>\n",
       "      <th>dreb_5_away</th>\n",
       "      <th>reb_5_away</th>\n",
       "      <th>ast_5_away</th>\n",
       "      <th>stl_5_away</th>\n",
       "      <th>blk_5_away</th>\n",
       "      <th>to_5_away</th>\n",
       "      <th>pf_5_away</th>\n",
       "      <th>is_home</th>\n",
       "      <th>team</th>\n",
       "      <th>score</th>\n",
       "    </tr>\n",
       "  </thead>\n",
       "  <tbody>\n",
       "    <tr>\n",
       "      <th>0</th>\n",
       "      <td>401606133</td>\n",
       "      <td>0.469091</td>\n",
       "      <td>0.600000</td>\n",
       "      <td>0.379592</td>\n",
       "      <td>0.485333</td>\n",
       "      <td>0.327273</td>\n",
       "      <td>0.476923</td>\n",
       "      <td>0.375</td>\n",
       "      <td>0.431373</td>\n",
       "      <td>0.284848</td>\n",
       "      <td>...</td>\n",
       "      <td>0.478571</td>\n",
       "      <td>0.5175</td>\n",
       "      <td>0.356757</td>\n",
       "      <td>0.191304</td>\n",
       "      <td>0.255556</td>\n",
       "      <td>0.240000</td>\n",
       "      <td>0.405</td>\n",
       "      <td>1</td>\n",
       "      <td>South Alabama Jaguars</td>\n",
       "      <td>82</td>\n",
       "    </tr>\n",
       "    <tr>\n",
       "      <th>1</th>\n",
       "      <td>401606133</td>\n",
       "      <td>0.469091</td>\n",
       "      <td>0.600000</td>\n",
       "      <td>0.379592</td>\n",
       "      <td>0.485333</td>\n",
       "      <td>0.327273</td>\n",
       "      <td>0.476923</td>\n",
       "      <td>0.375</td>\n",
       "      <td>0.431373</td>\n",
       "      <td>0.284848</td>\n",
       "      <td>...</td>\n",
       "      <td>0.478571</td>\n",
       "      <td>0.5175</td>\n",
       "      <td>0.356757</td>\n",
       "      <td>0.191304</td>\n",
       "      <td>0.255556</td>\n",
       "      <td>0.240000</td>\n",
       "      <td>0.405</td>\n",
       "      <td>0</td>\n",
       "      <td>Denver Pioneers</td>\n",
       "      <td>75</td>\n",
       "    </tr>\n",
       "    <tr>\n",
       "      <th>2</th>\n",
       "      <td>401584339</td>\n",
       "      <td>0.465455</td>\n",
       "      <td>0.603922</td>\n",
       "      <td>0.293878</td>\n",
       "      <td>0.397333</td>\n",
       "      <td>0.509091</td>\n",
       "      <td>0.611538</td>\n",
       "      <td>0.435</td>\n",
       "      <td>0.419608</td>\n",
       "      <td>0.290909</td>\n",
       "      <td>...</td>\n",
       "      <td>0.417857</td>\n",
       "      <td>0.4650</td>\n",
       "      <td>0.275676</td>\n",
       "      <td>0.373913</td>\n",
       "      <td>0.222222</td>\n",
       "      <td>0.400000</td>\n",
       "      <td>0.425</td>\n",
       "      <td>0</td>\n",
       "      <td>Northwestern State Demons</td>\n",
       "      <td>74</td>\n",
       "    </tr>\n",
       "    <tr>\n",
       "      <th>3</th>\n",
       "      <td>401604346</td>\n",
       "      <td>0.476364</td>\n",
       "      <td>0.609804</td>\n",
       "      <td>0.334694</td>\n",
       "      <td>0.456000</td>\n",
       "      <td>0.445455</td>\n",
       "      <td>0.538462</td>\n",
       "      <td>0.380</td>\n",
       "      <td>0.396078</td>\n",
       "      <td>0.303030</td>\n",
       "      <td>...</td>\n",
       "      <td>0.446429</td>\n",
       "      <td>0.4550</td>\n",
       "      <td>0.308108</td>\n",
       "      <td>0.243478</td>\n",
       "      <td>0.255556</td>\n",
       "      <td>0.291429</td>\n",
       "      <td>0.380</td>\n",
       "      <td>0</td>\n",
       "      <td>SIU Edwardsville Cougars</td>\n",
       "      <td>60</td>\n",
       "    </tr>\n",
       "    <tr>\n",
       "      <th>4</th>\n",
       "      <td>401577562</td>\n",
       "      <td>0.494545</td>\n",
       "      <td>0.535294</td>\n",
       "      <td>0.428571</td>\n",
       "      <td>0.512000</td>\n",
       "      <td>0.281818</td>\n",
       "      <td>0.311538</td>\n",
       "      <td>0.415</td>\n",
       "      <td>0.447059</td>\n",
       "      <td>0.212121</td>\n",
       "      <td>...</td>\n",
       "      <td>0.464286</td>\n",
       "      <td>0.4275</td>\n",
       "      <td>0.378378</td>\n",
       "      <td>0.460870</td>\n",
       "      <td>0.177778</td>\n",
       "      <td>0.320000</td>\n",
       "      <td>0.450</td>\n",
       "      <td>0</td>\n",
       "      <td>Maine Black Bears</td>\n",
       "      <td>80</td>\n",
       "    </tr>\n",
       "  </tbody>\n",
       "</table>\n",
       "<p>5 rows × 45 columns</p>\n",
       "</div>"
      ],
      "text/plain": [
       "     game_id  fgm_5_home  fga_5_home  2pm_5_home  2pa_5_home  3pm_5_home  \\\n",
       "0  401606133    0.469091    0.600000    0.379592    0.485333    0.327273   \n",
       "1  401606133    0.469091    0.600000    0.379592    0.485333    0.327273   \n",
       "2  401584339    0.465455    0.603922    0.293878    0.397333    0.509091   \n",
       "3  401604346    0.476364    0.609804    0.334694    0.456000    0.445455   \n",
       "4  401577562    0.494545    0.535294    0.428571    0.512000    0.281818   \n",
       "\n",
       "   3pa_5_home  ftm_5_home  fta_5_home  oreb_5_home  ...  dreb_5_away  \\\n",
       "0    0.476923       0.375    0.431373     0.284848  ...     0.478571   \n",
       "1    0.476923       0.375    0.431373     0.284848  ...     0.478571   \n",
       "2    0.611538       0.435    0.419608     0.290909  ...     0.417857   \n",
       "3    0.538462       0.380    0.396078     0.303030  ...     0.446429   \n",
       "4    0.311538       0.415    0.447059     0.212121  ...     0.464286   \n",
       "\n",
       "   reb_5_away  ast_5_away  stl_5_away  blk_5_away  to_5_away  pf_5_away  \\\n",
       "0      0.5175    0.356757    0.191304    0.255556   0.240000      0.405   \n",
       "1      0.5175    0.356757    0.191304    0.255556   0.240000      0.405   \n",
       "2      0.4650    0.275676    0.373913    0.222222   0.400000      0.425   \n",
       "3      0.4550    0.308108    0.243478    0.255556   0.291429      0.380   \n",
       "4      0.4275    0.378378    0.460870    0.177778   0.320000      0.450   \n",
       "\n",
       "   is_home                       team  score  \n",
       "0        1      South Alabama Jaguars     82  \n",
       "1        0            Denver Pioneers     75  \n",
       "2        0  Northwestern State Demons     74  \n",
       "3        0   SIU Edwardsville Cougars     60  \n",
       "4        0          Maine Black Bears     80  \n",
       "\n",
       "[5 rows x 45 columns]"
      ]
     },
     "execution_count": 138,
     "metadata": {},
     "output_type": "execute_result"
    }
   ],
   "source": [
    "df.head()"
   ]
  },
  {
   "cell_type": "code",
   "execution_count": 128,
   "metadata": {},
   "outputs": [],
   "source": [
    "rr = RidgeClassifier(alpha=1)\n",
    "split=TimeSeriesSplit(n_splits=3)\n",
    "\n",
    "sfs= SequentialFeatureSelector(rr, n_features_to_select=25, direction='forward', cv=split)"
   ]
  },
  {
   "cell_type": "code",
   "execution_count": 129,
   "metadata": {},
   "outputs": [],
   "source": [
    "feature_cols = df.columns[~df.columns.isin(exclude_cols)]\n",
    "target_col = 'score'"
   ]
  },
  {
   "cell_type": "code",
   "execution_count": 130,
   "metadata": {},
   "outputs": [
    {
     "data": {
      "text/html": [
       "<style>#sk-container-id-4 {color: black;background-color: white;}#sk-container-id-4 pre{padding: 0;}#sk-container-id-4 div.sk-toggleable {background-color: white;}#sk-container-id-4 label.sk-toggleable__label {cursor: pointer;display: block;width: 100%;margin-bottom: 0;padding: 0.3em;box-sizing: border-box;text-align: center;}#sk-container-id-4 label.sk-toggleable__label-arrow:before {content: \"▸\";float: left;margin-right: 0.25em;color: #696969;}#sk-container-id-4 label.sk-toggleable__label-arrow:hover:before {color: black;}#sk-container-id-4 div.sk-estimator:hover label.sk-toggleable__label-arrow:before {color: black;}#sk-container-id-4 div.sk-toggleable__content {max-height: 0;max-width: 0;overflow: hidden;text-align: left;background-color: #f0f8ff;}#sk-container-id-4 div.sk-toggleable__content pre {margin: 0.2em;color: black;border-radius: 0.25em;background-color: #f0f8ff;}#sk-container-id-4 input.sk-toggleable__control:checked~div.sk-toggleable__content {max-height: 200px;max-width: 100%;overflow: auto;}#sk-container-id-4 input.sk-toggleable__control:checked~label.sk-toggleable__label-arrow:before {content: \"▾\";}#sk-container-id-4 div.sk-estimator input.sk-toggleable__control:checked~label.sk-toggleable__label {background-color: #d4ebff;}#sk-container-id-4 div.sk-label input.sk-toggleable__control:checked~label.sk-toggleable__label {background-color: #d4ebff;}#sk-container-id-4 input.sk-hidden--visually {border: 0;clip: rect(1px 1px 1px 1px);clip: rect(1px, 1px, 1px, 1px);height: 1px;margin: -1px;overflow: hidden;padding: 0;position: absolute;width: 1px;}#sk-container-id-4 div.sk-estimator {font-family: monospace;background-color: #f0f8ff;border: 1px dotted black;border-radius: 0.25em;box-sizing: border-box;margin-bottom: 0.5em;}#sk-container-id-4 div.sk-estimator:hover {background-color: #d4ebff;}#sk-container-id-4 div.sk-parallel-item::after {content: \"\";width: 100%;border-bottom: 1px solid gray;flex-grow: 1;}#sk-container-id-4 div.sk-label:hover label.sk-toggleable__label {background-color: #d4ebff;}#sk-container-id-4 div.sk-serial::before {content: \"\";position: absolute;border-left: 1px solid gray;box-sizing: border-box;top: 0;bottom: 0;left: 50%;z-index: 0;}#sk-container-id-4 div.sk-serial {display: flex;flex-direction: column;align-items: center;background-color: white;padding-right: 0.2em;padding-left: 0.2em;position: relative;}#sk-container-id-4 div.sk-item {position: relative;z-index: 1;}#sk-container-id-4 div.sk-parallel {display: flex;align-items: stretch;justify-content: center;background-color: white;position: relative;}#sk-container-id-4 div.sk-item::before, #sk-container-id-4 div.sk-parallel-item::before {content: \"\";position: absolute;border-left: 1px solid gray;box-sizing: border-box;top: 0;bottom: 0;left: 50%;z-index: -1;}#sk-container-id-4 div.sk-parallel-item {display: flex;flex-direction: column;z-index: 1;position: relative;background-color: white;}#sk-container-id-4 div.sk-parallel-item:first-child::after {align-self: flex-end;width: 50%;}#sk-container-id-4 div.sk-parallel-item:last-child::after {align-self: flex-start;width: 50%;}#sk-container-id-4 div.sk-parallel-item:only-child::after {width: 0;}#sk-container-id-4 div.sk-dashed-wrapped {border: 1px dashed gray;margin: 0 0.4em 0.5em 0.4em;box-sizing: border-box;padding-bottom: 0.4em;background-color: white;}#sk-container-id-4 div.sk-label label {font-family: monospace;font-weight: bold;display: inline-block;line-height: 1.2em;}#sk-container-id-4 div.sk-label-container {text-align: center;}#sk-container-id-4 div.sk-container {/* jupyter's `normalize.less` sets `[hidden] { display: none; }` but bootstrap.min.css set `[hidden] { display: none !important; }` so we also need the `!important` here to be able to override the default hidden behavior on the sphinx rendered scikit-learn.org. See: https://github.com/scikit-learn/scikit-learn/issues/21755 */display: inline-block !important;position: relative;}#sk-container-id-4 div.sk-text-repr-fallback {display: none;}</style><div id=\"sk-container-id-4\" class=\"sk-top-container\"><div class=\"sk-text-repr-fallback\"><pre>SequentialFeatureSelector(cv=TimeSeriesSplit(gap=0, max_train_size=None, n_splits=3, test_size=None),\n",
       "                          estimator=RidgeClassifier(alpha=1),\n",
       "                          n_features_to_select=25)</pre><b>In a Jupyter environment, please rerun this cell to show the HTML representation or trust the notebook. <br />On GitHub, the HTML representation is unable to render, please try loading this page with nbviewer.org.</b></div><div class=\"sk-container\" hidden><div class=\"sk-item sk-dashed-wrapped\"><div class=\"sk-label-container\"><div class=\"sk-label sk-toggleable\"><input class=\"sk-toggleable__control sk-hidden--visually\" id=\"sk-estimator-id-10\" type=\"checkbox\" ><label for=\"sk-estimator-id-10\" class=\"sk-toggleable__label sk-toggleable__label-arrow\">SequentialFeatureSelector</label><div class=\"sk-toggleable__content\"><pre>SequentialFeatureSelector(cv=TimeSeriesSplit(gap=0, max_train_size=None, n_splits=3, test_size=None),\n",
       "                          estimator=RidgeClassifier(alpha=1),\n",
       "                          n_features_to_select=25)</pre></div></div></div><div class=\"sk-parallel\"><div class=\"sk-parallel-item\"><div class=\"sk-item\"><div class=\"sk-label-container\"><div class=\"sk-label sk-toggleable\"><input class=\"sk-toggleable__control sk-hidden--visually\" id=\"sk-estimator-id-11\" type=\"checkbox\" ><label for=\"sk-estimator-id-11\" class=\"sk-toggleable__label sk-toggleable__label-arrow\">estimator: RidgeClassifier</label><div class=\"sk-toggleable__content\"><pre>RidgeClassifier(alpha=1)</pre></div></div></div><div class=\"sk-serial\"><div class=\"sk-item\"><div class=\"sk-estimator sk-toggleable\"><input class=\"sk-toggleable__control sk-hidden--visually\" id=\"sk-estimator-id-12\" type=\"checkbox\" ><label for=\"sk-estimator-id-12\" class=\"sk-toggleable__label sk-toggleable__label-arrow\">RidgeClassifier</label><div class=\"sk-toggleable__content\"><pre>RidgeClassifier(alpha=1)</pre></div></div></div></div></div></div></div></div></div></div>"
      ],
      "text/plain": [
       "SequentialFeatureSelector(cv=TimeSeriesSplit(gap=0, max_train_size=None, n_splits=3, test_size=None),\n",
       "                          estimator=RidgeClassifier(alpha=1),\n",
       "                          n_features_to_select=25)"
      ]
     },
     "execution_count": 130,
     "metadata": {},
     "output_type": "execute_result"
    }
   ],
   "source": [
    "sfs.fit(df[feature_cols],df[target_col])"
   ]
  },
  {
   "cell_type": "code",
   "execution_count": 131,
   "metadata": {},
   "outputs": [],
   "source": [
    "predictors = list(feature_cols[sfs.get_support()])"
   ]
  },
  {
   "cell_type": "code",
   "execution_count": null,
   "metadata": {},
   "outputs": [],
   "source": [
    "def backtest(data, model, predictors, start=5, step=1):\n",
    "    all_predictions=[]\n",
    "    unique_days=sorted(df['game_day'].unique())\n",
    "\n",
    "    for i in range(start, len(unique_days), step):\n",
    "        day = unique_days[i]\n",
    "        train = df[df['game_day']<day]\n",
    "        test = df[df['game_day']==day]\n",
    "\n",
    "        model.fit(train[predictors], train[target_col])\n",
    "        \n",
    "        preds = model.predict(test[predictors])\n",
    "        preds = pd.Series(preds, index=test.index)\n",
    "\n",
    "        combined = pd.concat([test[target_col], preds], axis=1)\n",
    "        combined.columns = ['actual','prediction']\n",
    "\n",
    "        all_predictions.append(combined)\n",
    "    return pd.concat(all_predictions)\n"
   ]
  },
  {
   "cell_type": "code",
   "execution_count": 132,
   "metadata": {},
   "outputs": [],
   "source": [
    "predictions = backtest(df, rr, predictors)"
   ]
  },
  {
   "cell_type": "code",
   "execution_count": 133,
   "metadata": {},
   "outputs": [
    {
     "data": {
      "text/html": [
       "<div>\n",
       "<style scoped>\n",
       "    .dataframe tbody tr th:only-of-type {\n",
       "        vertical-align: middle;\n",
       "    }\n",
       "\n",
       "    .dataframe tbody tr th {\n",
       "        vertical-align: top;\n",
       "    }\n",
       "\n",
       "    .dataframe thead th {\n",
       "        text-align: right;\n",
       "    }\n",
       "</style>\n",
       "<table border=\"1\" class=\"dataframe\">\n",
       "  <thead>\n",
       "    <tr style=\"text-align: right;\">\n",
       "      <th></th>\n",
       "      <th>actual</th>\n",
       "      <th>prediction</th>\n",
       "    </tr>\n",
       "  </thead>\n",
       "  <tbody>\n",
       "    <tr>\n",
       "      <th>216</th>\n",
       "      <td>68</td>\n",
       "      <td>58</td>\n",
       "    </tr>\n",
       "    <tr>\n",
       "      <th>217</th>\n",
       "      <td>55</td>\n",
       "      <td>58</td>\n",
       "    </tr>\n",
       "    <tr>\n",
       "      <th>218</th>\n",
       "      <td>79</td>\n",
       "      <td>71</td>\n",
       "    </tr>\n",
       "    <tr>\n",
       "      <th>219</th>\n",
       "      <td>56</td>\n",
       "      <td>88</td>\n",
       "    </tr>\n",
       "    <tr>\n",
       "      <th>220</th>\n",
       "      <td>69</td>\n",
       "      <td>74</td>\n",
       "    </tr>\n",
       "    <tr>\n",
       "      <th>...</th>\n",
       "      <td>...</td>\n",
       "      <td>...</td>\n",
       "    </tr>\n",
       "    <tr>\n",
       "      <th>7861</th>\n",
       "      <td>64</td>\n",
       "      <td>77</td>\n",
       "    </tr>\n",
       "    <tr>\n",
       "      <th>7862</th>\n",
       "      <td>80</td>\n",
       "      <td>75</td>\n",
       "    </tr>\n",
       "    <tr>\n",
       "      <th>7863</th>\n",
       "      <td>79</td>\n",
       "      <td>68</td>\n",
       "    </tr>\n",
       "    <tr>\n",
       "      <th>7864</th>\n",
       "      <td>76</td>\n",
       "      <td>78</td>\n",
       "    </tr>\n",
       "    <tr>\n",
       "      <th>7865</th>\n",
       "      <td>84</td>\n",
       "      <td>69</td>\n",
       "    </tr>\n",
       "  </tbody>\n",
       "</table>\n",
       "<p>7650 rows × 2 columns</p>\n",
       "</div>"
      ],
      "text/plain": [
       "      actual  prediction\n",
       "216       68          58\n",
       "217       55          58\n",
       "218       79          71\n",
       "219       56          88\n",
       "220       69          74\n",
       "...      ...         ...\n",
       "7861      64          77\n",
       "7862      80          75\n",
       "7863      79          68\n",
       "7864      76          78\n",
       "7865      84          69\n",
       "\n",
       "[7650 rows x 2 columns]"
      ]
     },
     "execution_count": 133,
     "metadata": {},
     "output_type": "execute_result"
    }
   ],
   "source": [
    "predictions"
   ]
  },
  {
   "cell_type": "code",
   "execution_count": 135,
   "metadata": {},
   "outputs": [
    {
     "name": "stdout",
     "output_type": "stream",
     "text": [
      "r2: 0.06131634881042991\n",
      "MAE: 9.000915032679739\n"
     ]
    }
   ],
   "source": [
    "print(\"r2:\", r2_score(predictions['actual'],predictions['prediction']))\n",
    "print(\"MAE:\", mean_absolute_error(predictions['actual'],predictions['prediction']))"
   ]
  },
  {
   "cell_type": "code",
   "execution_count": 136,
   "metadata": {},
   "outputs": [
    {
     "data": {
      "text/plain": [
       "['fgm_5_home',\n",
       " 'fga_5_home',\n",
       " '2pm_5_home',\n",
       " '2pa_5_home',\n",
       " '3pm_5_home',\n",
       " '3pa_5_home',\n",
       " 'dreb_5_home',\n",
       " 'ast_5_home',\n",
       " 'to_5_home',\n",
       " 'is_conference',\n",
       " 'is_neutral',\n",
       " 'homeTeam_wins',\n",
       " 'fgm_5_away',\n",
       " 'fga_5_away',\n",
       " '2pm_5_away',\n",
       " '2pa_5_away',\n",
       " '3pm_5_away',\n",
       " '3pa_5_away',\n",
       " 'ftm_5_away',\n",
       " 'fta_5_away',\n",
       " 'reb_5_away',\n",
       " 'ast_5_away',\n",
       " 'blk_5_away',\n",
       " 'to_5_away',\n",
       " 'is_home']"
      ]
     },
     "execution_count": 136,
     "metadata": {},
     "output_type": "execute_result"
    }
   ],
   "source": [
    "predictors"
   ]
  },
  {
   "cell_type": "code",
   "execution_count": 137,
   "metadata": {},
   "outputs": [
    {
     "name": "stdout",
     "output_type": "stream",
     "text": [
      "game_id\n",
      "ftm_5_home\n",
      "fta_5_home\n",
      "oreb_5_home\n",
      "reb_5_home\n",
      "stl_5_home\n",
      "blk_5_home\n",
      "pf_5_home\n",
      "home_rank\n",
      "away_rank\n",
      "game_day\n",
      "homeTeam_losses\n",
      "awayTeam_wins\n",
      "awayTeam_losses\n",
      "oreb_5_away\n",
      "dreb_5_away\n",
      "stl_5_away\n",
      "pf_5_away\n",
      "team\n",
      "score\n"
     ]
    }
   ],
   "source": [
    "for col in df.columns:\n",
    "    if col not in predictors:\n",
    "        print(col)"
   ]
  },
  {
   "cell_type": "code",
   "execution_count": null,
   "metadata": {},
   "outputs": [],
   "source": []
  }
 ],
 "metadata": {
  "kernelspec": {
   "display_name": "Python 3.10.9 64-bit",
   "language": "python",
   "name": "python3"
  },
  "language_info": {
   "codemirror_mode": {
    "name": "ipython",
    "version": 3
   },
   "file_extension": ".py",
   "mimetype": "text/x-python",
   "name": "python",
   "nbconvert_exporter": "python",
   "pygments_lexer": "ipython3",
   "version": "3.10.9"
  },
  "orig_nbformat": 4,
  "vscode": {
   "interpreter": {
    "hash": "b0fa6594d8f4cbf19f97940f81e996739fb7646882a419484c72d19e05852a7e"
   }
  }
 },
 "nbformat": 4,
 "nbformat_minor": 2
}
